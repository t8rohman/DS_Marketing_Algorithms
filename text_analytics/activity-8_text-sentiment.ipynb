{
 "cells": [
  {
   "attachments": {},
   "cell_type": "markdown",
   "metadata": {},
   "source": [
    "# Sentiment Analysis on Text: MyAnimeList Review Data Set\n",
    "\n",
    "Collection of methods and models to on how to make a model to make a sentiment analysis. Functions referred to Blueprints for Text Analytics by Albrecht et al. (2021) with several adjustments to make it more clear. No ready-to-use functions at all because we're using other libraries thus it will not be convenient to wrap it again with another functions as there's a lot of parameteres to set. This notebook show several models, including:\n",
    "\n",
    "- Lexicon-based Approach\n",
    "- Building features from data, and applying a supervised ML algorithm\n",
    "- Transfer learning technique + pretrained language models (BERT for instance)"
   ]
  },
  {
   "cell_type": "code",
   "execution_count": 9,
   "metadata": {},
   "outputs": [],
   "source": [
    "import pandas as pd\n",
    "import random\n",
    "import regex as re\n",
    "import ast\n",
    "\n",
    "from sklearn.feature_extraction.text import TfidfVectorizer\n",
    "from sklearn.model_selection import train_test_split\n",
    "\n",
    "from sklearn.svm import LinearSVC\n",
    "\n",
    "from sklearn.metrics import accuracy_score\n",
    "from sklearn.metrics import roc_auc_score"
   ]
  },
  {
   "attachments": {},
   "cell_type": "markdown",
   "metadata": {},
   "source": [
    "### Data Set Information\n",
    "\n",
    "This project will use data from Kaggle, <a href='https://www.kaggle.com/datasets/marlesson/myanimelist-dataset-animes-profiles-reviews'> Anime Dataset with Reviews - MyAnimeList by Marlesson</a>. For other informations, please click the link on the text and it will show some infos about the data set."
   ]
  },
  {
   "cell_type": "code",
   "execution_count": 2,
   "metadata": {},
   "outputs": [
    {
     "data": {
      "text/html": [
       "<div>\n",
       "<style scoped>\n",
       "    .dataframe tbody tr th:only-of-type {\n",
       "        vertical-align: middle;\n",
       "    }\n",
       "\n",
       "    .dataframe tbody tr th {\n",
       "        vertical-align: top;\n",
       "    }\n",
       "\n",
       "    .dataframe thead th {\n",
       "        text-align: right;\n",
       "    }\n",
       "</style>\n",
       "<table border=\"1\" class=\"dataframe\">\n",
       "  <thead>\n",
       "    <tr style=\"text-align: right;\">\n",
       "      <th></th>\n",
       "      <th>uid</th>\n",
       "      <th>profile</th>\n",
       "      <th>anime_uid</th>\n",
       "      <th>text</th>\n",
       "      <th>score</th>\n",
       "      <th>scores</th>\n",
       "      <th>link</th>\n",
       "    </tr>\n",
       "  </thead>\n",
       "  <tbody>\n",
       "    <tr>\n",
       "      <th>0</th>\n",
       "      <td>255938</td>\n",
       "      <td>DesolatePsyche</td>\n",
       "      <td>34096</td>\n",
       "      <td>\\n           \\n         \\n           \\n       ...</td>\n",
       "      <td>8</td>\n",
       "      <td>{'Overall': '8', 'Story': '8', 'Animation': '8...</td>\n",
       "      <td>https://myanimelist.net/reviews.php?id=255938</td>\n",
       "    </tr>\n",
       "    <tr>\n",
       "      <th>1</th>\n",
       "      <td>259117</td>\n",
       "      <td>baekbeans</td>\n",
       "      <td>34599</td>\n",
       "      <td>\\n           \\n         \\n           \\n       ...</td>\n",
       "      <td>10</td>\n",
       "      <td>{'Overall': '10', 'Story': '10', 'Animation': ...</td>\n",
       "      <td>https://myanimelist.net/reviews.php?id=259117</td>\n",
       "    </tr>\n",
       "    <tr>\n",
       "      <th>2</th>\n",
       "      <td>253664</td>\n",
       "      <td>skrn</td>\n",
       "      <td>28891</td>\n",
       "      <td>\\n           \\n         \\n           \\n       ...</td>\n",
       "      <td>7</td>\n",
       "      <td>{'Overall': '7', 'Story': '7', 'Animation': '9...</td>\n",
       "      <td>https://myanimelist.net/reviews.php?id=253664</td>\n",
       "    </tr>\n",
       "    <tr>\n",
       "      <th>3</th>\n",
       "      <td>8254</td>\n",
       "      <td>edgewalker00</td>\n",
       "      <td>2904</td>\n",
       "      <td>\\n           \\n         \\n           \\n       ...</td>\n",
       "      <td>9</td>\n",
       "      <td>{'Overall': '9', 'Story': '9', 'Animation': '9...</td>\n",
       "      <td>https://myanimelist.net/reviews.php?id=8254</td>\n",
       "    </tr>\n",
       "    <tr>\n",
       "      <th>4</th>\n",
       "      <td>291149</td>\n",
       "      <td>aManOfCulture99</td>\n",
       "      <td>4181</td>\n",
       "      <td>\\n           \\n         \\n           \\n       ...</td>\n",
       "      <td>10</td>\n",
       "      <td>{'Overall': '10', 'Story': '10', 'Animation': ...</td>\n",
       "      <td>https://myanimelist.net/reviews.php?id=291149</td>\n",
       "    </tr>\n",
       "  </tbody>\n",
       "</table>\n",
       "</div>"
      ],
      "text/plain": [
       "      uid          profile  anime_uid  \\\n",
       "0  255938   DesolatePsyche      34096   \n",
       "1  259117        baekbeans      34599   \n",
       "2  253664             skrn      28891   \n",
       "3    8254     edgewalker00       2904   \n",
       "4  291149  aManOfCulture99       4181   \n",
       "\n",
       "                                                text  score  \\\n",
       "0  \\n           \\n         \\n           \\n       ...      8   \n",
       "1  \\n           \\n         \\n           \\n       ...     10   \n",
       "2  \\n           \\n         \\n           \\n       ...      7   \n",
       "3  \\n           \\n         \\n           \\n       ...      9   \n",
       "4  \\n           \\n         \\n           \\n       ...     10   \n",
       "\n",
       "                                              scores  \\\n",
       "0  {'Overall': '8', 'Story': '8', 'Animation': '8...   \n",
       "1  {'Overall': '10', 'Story': '10', 'Animation': ...   \n",
       "2  {'Overall': '7', 'Story': '7', 'Animation': '9...   \n",
       "3  {'Overall': '9', 'Story': '9', 'Animation': '9...   \n",
       "4  {'Overall': '10', 'Story': '10', 'Animation': ...   \n",
       "\n",
       "                                            link  \n",
       "0  https://myanimelist.net/reviews.php?id=255938  \n",
       "1  https://myanimelist.net/reviews.php?id=259117  \n",
       "2  https://myanimelist.net/reviews.php?id=253664  \n",
       "3    https://myanimelist.net/reviews.php?id=8254  \n",
       "4  https://myanimelist.net/reviews.php?id=291149  "
      ]
     },
     "metadata": {},
     "output_type": "display_data"
    },
    {
     "name": "stdout",
     "output_type": "stream",
     "text": [
      "length of the dataframe 192112\n"
     ]
    }
   ],
   "source": [
    "df = pd.read_csv('/Users/taufiqurrohman/Documents/ds_marketing_portfolio/text_analytics/dataset/activity-8_animereviewDataSet/reviews.csv')\n",
    "\n",
    "display(df.head(5))\n",
    "print('length of the dataframe', len(df))"
   ]
  },
  {
   "cell_type": "code",
   "execution_count": 3,
   "metadata": {},
   "outputs": [
    {
     "data": {
      "text/html": [
       "<div>\n",
       "<style scoped>\n",
       "    .dataframe tbody tr th:only-of-type {\n",
       "        vertical-align: middle;\n",
       "    }\n",
       "\n",
       "    .dataframe tbody tr th {\n",
       "        vertical-align: top;\n",
       "    }\n",
       "\n",
       "    .dataframe thead th {\n",
       "        text-align: right;\n",
       "    }\n",
       "</style>\n",
       "<table border=\"1\" class=\"dataframe\">\n",
       "  <thead>\n",
       "    <tr style=\"text-align: right;\">\n",
       "      <th></th>\n",
       "      <th>uid</th>\n",
       "      <th>title</th>\n",
       "      <th>synopsis</th>\n",
       "      <th>genre</th>\n",
       "      <th>aired</th>\n",
       "      <th>episodes</th>\n",
       "      <th>members</th>\n",
       "      <th>popularity</th>\n",
       "      <th>ranked</th>\n",
       "      <th>score</th>\n",
       "      <th>img_url</th>\n",
       "      <th>link</th>\n",
       "    </tr>\n",
       "  </thead>\n",
       "  <tbody>\n",
       "    <tr>\n",
       "      <th>0</th>\n",
       "      <td>28891</td>\n",
       "      <td>Haikyuu!! Second Season</td>\n",
       "      <td>Following their participation at the Inter-Hig...</td>\n",
       "      <td>['Comedy', 'Sports', 'Drama', 'School', 'Shoun...</td>\n",
       "      <td>Oct 4, 2015 to Mar 27, 2016</td>\n",
       "      <td>25.0</td>\n",
       "      <td>489888</td>\n",
       "      <td>141</td>\n",
       "      <td>25.0</td>\n",
       "      <td>8.82</td>\n",
       "      <td>https://cdn.myanimelist.net/images/anime/9/766...</td>\n",
       "      <td>https://myanimelist.net/anime/28891/Haikyuu_Se...</td>\n",
       "    </tr>\n",
       "    <tr>\n",
       "      <th>1</th>\n",
       "      <td>23273</td>\n",
       "      <td>Shigatsu wa Kimi no Uso</td>\n",
       "      <td>Music accompanies the path of the human metron...</td>\n",
       "      <td>['Drama', 'Music', 'Romance', 'School', 'Shoun...</td>\n",
       "      <td>Oct 10, 2014 to Mar 20, 2015</td>\n",
       "      <td>22.0</td>\n",
       "      <td>995473</td>\n",
       "      <td>28</td>\n",
       "      <td>24.0</td>\n",
       "      <td>8.83</td>\n",
       "      <td>https://cdn.myanimelist.net/images/anime/3/671...</td>\n",
       "      <td>https://myanimelist.net/anime/23273/Shigatsu_w...</td>\n",
       "    </tr>\n",
       "    <tr>\n",
       "      <th>2</th>\n",
       "      <td>34599</td>\n",
       "      <td>Made in Abyss</td>\n",
       "      <td>The Abyss—a gaping chasm stretching down into ...</td>\n",
       "      <td>['Sci-Fi', 'Adventure', 'Mystery', 'Drama', 'F...</td>\n",
       "      <td>Jul 7, 2017 to Sep 29, 2017</td>\n",
       "      <td>13.0</td>\n",
       "      <td>581663</td>\n",
       "      <td>98</td>\n",
       "      <td>23.0</td>\n",
       "      <td>8.83</td>\n",
       "      <td>https://cdn.myanimelist.net/images/anime/6/867...</td>\n",
       "      <td>https://myanimelist.net/anime/34599/Made_in_Abyss</td>\n",
       "    </tr>\n",
       "    <tr>\n",
       "      <th>3</th>\n",
       "      <td>5114</td>\n",
       "      <td>Fullmetal Alchemist: Brotherhood</td>\n",
       "      <td>\"In order for something to be obtained, someth...</td>\n",
       "      <td>['Action', 'Military', 'Adventure', 'Comedy', ...</td>\n",
       "      <td>Apr 5, 2009 to Jul 4, 2010</td>\n",
       "      <td>64.0</td>\n",
       "      <td>1615084</td>\n",
       "      <td>4</td>\n",
       "      <td>1.0</td>\n",
       "      <td>9.23</td>\n",
       "      <td>https://cdn.myanimelist.net/images/anime/1223/...</td>\n",
       "      <td>https://myanimelist.net/anime/5114/Fullmetal_A...</td>\n",
       "    </tr>\n",
       "    <tr>\n",
       "      <th>4</th>\n",
       "      <td>31758</td>\n",
       "      <td>Kizumonogatari III: Reiketsu-hen</td>\n",
       "      <td>After helping revive the legendary vampire Kis...</td>\n",
       "      <td>['Action', 'Mystery', 'Supernatural', 'Vampire']</td>\n",
       "      <td>Jan 6, 2017</td>\n",
       "      <td>1.0</td>\n",
       "      <td>214621</td>\n",
       "      <td>502</td>\n",
       "      <td>22.0</td>\n",
       "      <td>8.83</td>\n",
       "      <td>https://cdn.myanimelist.net/images/anime/3/815...</td>\n",
       "      <td>https://myanimelist.net/anime/31758/Kizumonoga...</td>\n",
       "    </tr>\n",
       "  </tbody>\n",
       "</table>\n",
       "</div>"
      ],
      "text/plain": [
       "     uid                             title  \\\n",
       "0  28891           Haikyuu!! Second Season   \n",
       "1  23273           Shigatsu wa Kimi no Uso   \n",
       "2  34599                     Made in Abyss   \n",
       "3   5114  Fullmetal Alchemist: Brotherhood   \n",
       "4  31758  Kizumonogatari III: Reiketsu-hen   \n",
       "\n",
       "                                            synopsis  \\\n",
       "0  Following their participation at the Inter-Hig...   \n",
       "1  Music accompanies the path of the human metron...   \n",
       "2  The Abyss—a gaping chasm stretching down into ...   \n",
       "3  \"In order for something to be obtained, someth...   \n",
       "4  After helping revive the legendary vampire Kis...   \n",
       "\n",
       "                                               genre  \\\n",
       "0  ['Comedy', 'Sports', 'Drama', 'School', 'Shoun...   \n",
       "1  ['Drama', 'Music', 'Romance', 'School', 'Shoun...   \n",
       "2  ['Sci-Fi', 'Adventure', 'Mystery', 'Drama', 'F...   \n",
       "3  ['Action', 'Military', 'Adventure', 'Comedy', ...   \n",
       "4   ['Action', 'Mystery', 'Supernatural', 'Vampire']   \n",
       "\n",
       "                          aired  episodes  members  popularity  ranked  score  \\\n",
       "0   Oct 4, 2015 to Mar 27, 2016      25.0   489888         141    25.0   8.82   \n",
       "1  Oct 10, 2014 to Mar 20, 2015      22.0   995473          28    24.0   8.83   \n",
       "2   Jul 7, 2017 to Sep 29, 2017      13.0   581663          98    23.0   8.83   \n",
       "3    Apr 5, 2009 to Jul 4, 2010      64.0  1615084           4     1.0   9.23   \n",
       "4                   Jan 6, 2017       1.0   214621         502    22.0   8.83   \n",
       "\n",
       "                                             img_url  \\\n",
       "0  https://cdn.myanimelist.net/images/anime/9/766...   \n",
       "1  https://cdn.myanimelist.net/images/anime/3/671...   \n",
       "2  https://cdn.myanimelist.net/images/anime/6/867...   \n",
       "3  https://cdn.myanimelist.net/images/anime/1223/...   \n",
       "4  https://cdn.myanimelist.net/images/anime/3/815...   \n",
       "\n",
       "                                                link  \n",
       "0  https://myanimelist.net/anime/28891/Haikyuu_Se...  \n",
       "1  https://myanimelist.net/anime/23273/Shigatsu_w...  \n",
       "2  https://myanimelist.net/anime/34599/Made_in_Abyss  \n",
       "3  https://myanimelist.net/anime/5114/Fullmetal_A...  \n",
       "4  https://myanimelist.net/anime/31758/Kizumonoga...  "
      ]
     },
     "metadata": {},
     "output_type": "display_data"
    },
    {
     "name": "stdout",
     "output_type": "stream",
     "text": [
      "length of the dataframe 19311\n"
     ]
    }
   ],
   "source": [
    "df_anime = pd.read_csv('/Users/taufiqurrohman/Documents/ds_marketing_portfolio/text_analytics/dataset/activity-8_animereviewDataSet/animes.csv')\n",
    "\n",
    "display(df_anime.head(5))\n",
    "print('length of the dataframe', len(df_anime))"
   ]
  },
  {
   "cell_type": "markdown",
   "metadata": {},
   "source": [
    "    Some Data Cleaning Before Merging"
   ]
  },
  {
   "cell_type": "code",
   "execution_count": 4,
   "metadata": {},
   "outputs": [
    {
     "data": {
      "text/plain": [
       "False    130519\n",
       "True      61593\n",
       "dtype: int64"
      ]
     },
     "execution_count": 4,
     "metadata": {},
     "output_type": "execute_result"
    }
   ],
   "source": [
    "# count duplicate value\n",
    "\n",
    "df.duplicated().value_counts()"
   ]
  },
  {
   "cell_type": "code",
   "execution_count": 5,
   "metadata": {},
   "outputs": [
    {
     "name": "stdout",
     "output_type": "stream",
     "text": [
      "length of the dataframe 130519\n"
     ]
    }
   ],
   "source": [
    "# drop the duplicated value \n",
    "\n",
    "df = df.drop_duplicates(keep='first')\n",
    "print('length of the dataframe', len(df))"
   ]
  },
  {
   "cell_type": "code",
   "execution_count": 6,
   "metadata": {},
   "outputs": [
    {
     "data": {
      "text/plain": [
       "False    16368\n",
       "True      2943\n",
       "dtype: int64"
      ]
     },
     "execution_count": 6,
     "metadata": {},
     "output_type": "execute_result"
    }
   ],
   "source": [
    "# count duplicate value for anime list\n",
    "\n",
    "df_anime.duplicated().value_counts()"
   ]
  },
  {
   "cell_type": "code",
   "execution_count": 7,
   "metadata": {},
   "outputs": [
    {
     "name": "stdout",
     "output_type": "stream",
     "text": [
      "length of the dataframe 16368\n"
     ]
    }
   ],
   "source": [
    "# drop the duplicated value \n",
    "\n",
    "df_anime = df_anime.drop_duplicates(keep='first')\n",
    "print('length of the dataframe', len(df_anime))"
   ]
  },
  {
   "attachments": {},
   "cell_type": "markdown",
   "metadata": {},
   "source": [
    "    Inserting all the features"
   ]
  },
  {
   "cell_type": "code",
   "execution_count": 8,
   "metadata": {},
   "outputs": [
    {
     "data": {
      "text/html": [
       "<div>\n",
       "<style scoped>\n",
       "    .dataframe tbody tr th:only-of-type {\n",
       "        vertical-align: middle;\n",
       "    }\n",
       "\n",
       "    .dataframe tbody tr th {\n",
       "        vertical-align: top;\n",
       "    }\n",
       "\n",
       "    .dataframe thead th {\n",
       "        text-align: right;\n",
       "    }\n",
       "</style>\n",
       "<table border=\"1\" class=\"dataframe\">\n",
       "  <thead>\n",
       "    <tr style=\"text-align: right;\">\n",
       "      <th></th>\n",
       "      <th>uid_x</th>\n",
       "      <th>profile</th>\n",
       "      <th>anime_uid</th>\n",
       "      <th>title</th>\n",
       "      <th>text</th>\n",
       "      <th>score</th>\n",
       "      <th>scores</th>\n",
       "    </tr>\n",
       "  </thead>\n",
       "  <tbody>\n",
       "    <tr>\n",
       "      <th>0</th>\n",
       "      <td>255938</td>\n",
       "      <td>DesolatePsyche</td>\n",
       "      <td>34096</td>\n",
       "      <td>Gintama.</td>\n",
       "      <td>\\n           \\n         \\n           \\n       ...</td>\n",
       "      <td>8</td>\n",
       "      <td>{'Overall': '8', 'Story': '8', 'Animation': '8...</td>\n",
       "    </tr>\n",
       "    <tr>\n",
       "      <th>1</th>\n",
       "      <td>259117</td>\n",
       "      <td>baekbeans</td>\n",
       "      <td>34599</td>\n",
       "      <td>Made in Abyss</td>\n",
       "      <td>\\n           \\n         \\n           \\n       ...</td>\n",
       "      <td>10</td>\n",
       "      <td>{'Overall': '10', 'Story': '10', 'Animation': ...</td>\n",
       "    </tr>\n",
       "    <tr>\n",
       "      <th>2</th>\n",
       "      <td>253664</td>\n",
       "      <td>skrn</td>\n",
       "      <td>28891</td>\n",
       "      <td>Haikyuu!! Second Season</td>\n",
       "      <td>\\n           \\n         \\n           \\n       ...</td>\n",
       "      <td>7</td>\n",
       "      <td>{'Overall': '7', 'Story': '7', 'Animation': '9...</td>\n",
       "    </tr>\n",
       "    <tr>\n",
       "      <th>3</th>\n",
       "      <td>8254</td>\n",
       "      <td>edgewalker00</td>\n",
       "      <td>2904</td>\n",
       "      <td>Code Geass: Hangyaku no Lelouch R2</td>\n",
       "      <td>\\n           \\n         \\n           \\n       ...</td>\n",
       "      <td>9</td>\n",
       "      <td>{'Overall': '9', 'Story': '9', 'Animation': '9...</td>\n",
       "    </tr>\n",
       "    <tr>\n",
       "      <th>4</th>\n",
       "      <td>291149</td>\n",
       "      <td>aManOfCulture99</td>\n",
       "      <td>4181</td>\n",
       "      <td>Clannad: After Story</td>\n",
       "      <td>\\n           \\n         \\n           \\n       ...</td>\n",
       "      <td>10</td>\n",
       "      <td>{'Overall': '10', 'Story': '10', 'Animation': ...</td>\n",
       "    </tr>\n",
       "  </tbody>\n",
       "</table>\n",
       "</div>"
      ],
      "text/plain": [
       "    uid_x          profile  anime_uid                               title  \\\n",
       "0  255938   DesolatePsyche      34096                            Gintama.   \n",
       "1  259117        baekbeans      34599                       Made in Abyss   \n",
       "2  253664             skrn      28891             Haikyuu!! Second Season   \n",
       "3    8254     edgewalker00       2904  Code Geass: Hangyaku no Lelouch R2   \n",
       "4  291149  aManOfCulture99       4181                Clannad: After Story   \n",
       "\n",
       "                                                text  score  \\\n",
       "0  \\n           \\n         \\n           \\n       ...      8   \n",
       "1  \\n           \\n         \\n           \\n       ...     10   \n",
       "2  \\n           \\n         \\n           \\n       ...      7   \n",
       "3  \\n           \\n         \\n           \\n       ...      9   \n",
       "4  \\n           \\n         \\n           \\n       ...     10   \n",
       "\n",
       "                                              scores  \n",
       "0  {'Overall': '8', 'Story': '8', 'Animation': '8...  \n",
       "1  {'Overall': '10', 'Story': '10', 'Animation': ...  \n",
       "2  {'Overall': '7', 'Story': '7', 'Animation': '9...  \n",
       "3  {'Overall': '9', 'Story': '9', 'Animation': '9...  \n",
       "4  {'Overall': '10', 'Story': '10', 'Animation': ...  "
      ]
     },
     "metadata": {},
     "output_type": "display_data"
    },
    {
     "name": "stdout",
     "output_type": "stream",
     "text": [
      "length of the dataframe 130519\n"
     ]
    }
   ],
   "source": [
    "df = df.merge(df_anime[['uid', 'title']], left_on='anime_uid', right_on='uid', how='left')\n",
    "df = df.drop_duplicates()\n",
    "df = df[['uid_x', 'profile', 'anime_uid', 'title', 'text', 'score', 'scores']]\n",
    "df.rename(columns={'uid_x': 'uid'})\n",
    "\n",
    "display(df.head(5))\n",
    "print('length of the dataframe', len(df))"
   ]
  },
  {
   "cell_type": "markdown",
   "metadata": {},
   "source": []
  },
  {
   "cell_type": "markdown",
   "metadata": {},
   "source": [
    "## Data Cleaning"
   ]
  },
  {
   "cell_type": "code",
   "execution_count": 9,
   "metadata": {},
   "outputs": [
    {
     "name": "stdout",
     "output_type": "stream",
     "text": [
      "review from DevilKirito :\n"
     ]
    },
    {
     "data": {
      "text/plain": [
       "'\\n           \\n         \\n           \\n             \\n           \\n         \\n         \\n           more pics \\n         \\n       \\n         \\n       \\n         \\n           Overall \\n           6 \\n         \\n         \\n           Story \\n           5 \\n         \\n                   \\n             Animation \\n             5 \\n           \\n           \\n             Sound \\n             6 \\n           \\n                 \\n           Character \\n           4 \\n         \\n         \\n           Enjoyment \\n           6 \\n         \\n       \\n     \\n\\n                    \\n    Bad start, the accident besides being cliché, totally disagrees with the style of anime. \\r\\nSilly and cliche but evolving romance, unlike most animes who are all in one thing always liking each other but never doing anything. \\r\\nNice ecchi I like, but I think the ecchi makes the work lose a bit of depth, I have not seen any anime with much ecchi that impresses me in history, animation, etc. \\r\\nThere were completely unnecessary dialogues throughout the anime, as in the part where they spend several minutes talking about shoots. \\r\\nThere were a few moments where the story flowed that left me with a positive impression, like the villain\\'s presentation, which was quick and unremarkable despite having a medium development. \\r\\nThe mood could have been better, just a few moments amused me, if the anime had a more serious aspect I think it would have been much better, such as re: zero, tate no yuusha, and other better isekai with very serious moments that know how to give weight to characters, unfortunately this was just a supergeneric anime. \\r\\nThe conception of magic is quite interesting, Shin developing spells with a \"current and scientific\" perspective using concepts such as the substances in the periodic table, something that doesn\\'t really exist in the anime universe. \\r\\nThe school is based on meritocracy but at various times the students brag about having any store, restaurant, territory, etc. \\r\\nVillain with a lot of potential that was used porcely.\\n\\n          \\n \\n       Helpful \\n   \\n      '"
      ]
     },
     "metadata": {},
     "output_type": "display_data"
    },
    {
     "name": "stdout",
     "output_type": "stream",
     "text": [
      "\n",
      "\n",
      "review from SuccHunter :\n"
     ]
    },
    {
     "data": {
      "text/plain": [
       "\"\\n           \\n         \\n           \\n             \\n           \\n         \\n         \\n           more pics \\n         \\n       \\n         \\n       \\n         \\n           Overall \\n           10 \\n         \\n         \\n           Story \\n           9 \\n         \\n                   \\n             Animation \\n             10 \\n           \\n           \\n             Sound \\n             10 \\n           \\n                 \\n           Character \\n           10 \\n         \\n         \\n           Enjoyment \\n           10 \\n         \\n       \\n     \\n\\n                    \\n    Story & Characters: \\r\\n \\r\\nBarakamon is an absolute gem and deserves every bit of praise and popularity that it gets. The way it builds its world and characters is nothing short of magic, weaving a big but lovable cast of three dimensional humans who are just living out their mundane lives and through doing so, gradually discover new things about themselves. Character interactions and dynamics are extremely entertaining, oftentimes heartwarming. Its not so much the setting as it is the characters that make this show, and fuck me if the characters aren't believable, well written, and well developed. There's not much else I can say about Barakamon's simple but immensely enjoyable story because that's the magic of Barakamon: its premise is deceptively unimpressive on paper, but once you start watching it, you will feel the effectiveness of its writing seep through your very soul, and be reminded once again of why you even started watching anime as an entertainment medium in the first place. \\r\\n \\r\\nArt: \\r\\nKinema Citrus did an amazing job with its character designs, animation, and color palette - everything on the island looks vibrant and full of life. The facial expressions are all perfect and convey all the right emotions at all the right times. It's truly great stuff. \\r\\n \\r\\nSound: \\r\\nBoth the openings and endings are topgun. They perfectly capture the show's joyful energy and sense of wonder. The background tracks that play during each episode are usually very mellow and easy-going, fitting right in with the mood of the anime. \\r\\n \\r\\nEnjoyment: \\r\\nJust sit back, relax, and feel the magic of Barakamon's simple but profound and touching writing. \\r\\n \\r\\nOverall: \\r\\n10/10 very few slice-of-life shows have managed to contain as much heart and soul and Barakamon, and I doubt we will see anything so deep and genuine like it again for a quite a long time. \\r\\n  \\r\\n \\r\\n\\n\\n          \\n \\n       Helpful \\n   \\n      \""
      ]
     },
     "metadata": {},
     "output_type": "display_data"
    },
    {
     "name": "stdout",
     "output_type": "stream",
     "text": [
      "\n",
      "\n",
      "review from thxbookthief :\n"
     ]
    },
    {
     "data": {
      "text/plain": [
       "'\\n           \\n         \\n           \\n             \\n           \\n         \\n         \\n           more pics \\n         \\n       \\n         \\n       \\n         \\n           Overall \\n           2 \\n         \\n         \\n           Story \\n           2 \\n         \\n                   \\n             Animation \\n             8 \\n           \\n           \\n             Sound \\n             8 \\n           \\n                 \\n           Character \\n           1 \\n         \\n         \\n           Enjoyment \\n           5 \\n         \\n       \\n     \\n\\n                    \\n    This review may contain spoilers \\r\\n \\r\\n \\r\\nHarem Online,I mean Sword art online is an anime aired in 2012 based on a light novel series of the same name by Reki Kawahara (he also write the novels of Accel World) and it gained a lot of fans and popularity. \\r\\nWell, with that introduction let’s start this review \\r\\n \\r\\nStory:2 \\r\\n \\r\\nThe story of SAOis divided into 2 arcs and it follows the serie of events after the release of a VMMORPG called Sword art online,on the day of its release,when everyone is online, the game creator Kayaba Akihiko says that they can\\'t logout until they clear the 100 floor and if they die on the game,they will die on real life. \\r\\nThe premise is very good,the idea of virtual reality game is very attactive and the death game makes it interesting,not new or orginal but interesting. \\r\\nAlthough,a good premise means nothing if the story develops bad and SAO suffers of that. \\r\\nThe anime starts really well,with the first episodes focusing on the story,but then it follows everything except the main plot,making the protagonist fishing,playing the \"happy family\" with his virtual girlfriend,helping helpless lolis with his dragon or being CSI Online. \\r\\nThe anime spends a lot time and money in things taht can be told on 5 minutes or aren\\'t needed,the improvement in the game is ignored making time jumps like it was Steins;Gate. \\r\\nThe story of SAO is full of clichés and predictable things,and even at some points it\\'s embarrasing,well I mean if the goal is to clear the floors,why you would care if any one \"cheats\" to clear and even more,when you fight for your life? \\r\\nMoreover,the main character\\'s plot armor can be shown in 2 galaxies away,making him wining everyone alone,and yes,he was a beta tester but I don\\'t think a beta tester can won a bunch  of guys by staying in frontof them. \\r\\nThe romance is a very important aspect of the show,because it aims the events of mostly of all the story. \\r\\nThe romance in this anime doesn\\'t work at all,it seems to be written by a someone that has no clue that how they work,the interacctions between them are boring and dull,the couple has not chemistry at all,the characters aren\\'t fun and they romance is forced as fuck.They instert a lot of stuff to make it seem like an adult romance and it\\'s kind of ridiculous. \\r\\nDespite this,the first arc of SAO is fun to watch.It\\'s stupid but fun to watch but the worst it\\'s about to come. \\r\\nThe second arc make it worse,all the problems with the first arc increase in such a way that it seems like they were insulting me. \\r\\nThere\\'s a forced love triaingle between a \"sister\" who is not a sister,oh Japan...,a girl in coma and a teen. \\r\\nThe princess that has to be rescued,the villian that doesn\\'t deserve such a title,more fanservice and cliches and archeothypes,making Mario Bros look like a fucking masterpiece. \\r\\nThe second arc of SAO is more embarassing than when you\\'re watching a film with your parents and 2 characters kiss. \\r\\nSo,the premise is great,the rest is complete shit. \\r\\n \\r\\nArt &Animation:8 \\r\\n \\r\\nThe animation was made by A-1 Pictures known of other anime like Ano Hana,Black Butler,Fairy Tail or Your Lie in April and it\\'s great,the battles are well animated and the background is flawless and the ilumination of those backgrounds are very well done. \\r\\nThe battles can be animated or can be a powerpoint,showing you,frames whare the characters are jitting but not any actual movement at all. \\r\\nThe character design is standard but it\\'s well done,even though,in the second arc is changed into something infrerior with those awful elf ears. \\r\\n \\r\\nSound:8 \\r\\n \\r\\nThe OST was composed by Yuki Kajiura,known of other OST\\'s like Madoka Magica or Fate/Zero and it\\'s amazing,it\\'s a plus to almost every battle and with the animation make it the only good aspects of the show. \\r\\nThis show has 2 Ops and ED,in the first set,OP is good and the 1 ED is meh and on the second one,OP is forgettable and the ED is okay. \\r\\nThe voice acting is solid and the sound effects are okay. \\r\\n \\r\\nCharacters:1 \\r\\n \\r\\nThe characters are poorly written clichés \\r\\n \\r\\nThe main characters: \\r\\n \\r\\nKirito:The protagonist,everything and everyone is about him.It\\'s also known as Gary Stu and it\\'s portrait as a God,showing contradictions and flaws of everything his personality supposes to be.He\\'s a character where everyone can insert,so it\\'s the son of every beta character ever and a Gary Stu.His our lord and savior Kirito and that\\'s not me,is how the show presents it.He\\'s a self-inserted character that you\\'re supposed to insert in and be amazed about his awesomeness and root for him,because ir\\'s a light novel,of course and all girls fall for him because he\\'s amazing and he\\'s the MC. \\r\\n \\r\\nAsuna:Co-protagonist,at first is shown as a badass player but then she turn into a generic tsundere who is usless without Kirito.In the second arc she became a damsel in distress been  raped by a evil butterfly dude trashing all her image of been a strong female character who kicks ass,been unable to do anything and waiting for Kirito to recue her. \\r\\n \\r\\nSugu:Incest.She\\'s the little sister who is not the sister because Japan always looks of excuses to hide incest who\\'s as interesting as a wall and it\\'s useless without Kirito.She\\'s only a pair of brests with no brains and only as another fetish on the harem. \\r\\n \\r\\nKlein:the main character\\'s friend archetype.To be honest,he would be a better protagonist than kirito as he\\'s more likeable and no perfect hero that everyone loves. \\r\\n \\r\\nLisbeth:another girl in the Harem,,she\\'s a blacksmith and she is introduced in a couple of episodes to be kick to Kirito\\'s harem,falling for him for no given reason than his the main character of course. \\r\\n \\r\\nSilica:talking loli.She\\'s nothing but another girl added to the harem,introduced in one episode in one of the most insulting way imaginable,she\\'s been attacked by a tentacle moster,making more deviant and a step away for a hentai.The only thing you can say about her is that she likes Kirito and has a little dragon. \\r\\n \\r\\nThe villans: \\r\\n \\r\\nKayaba:He\\'s the main antagonist in the first arc who\\'s motivations are never explained in one of the worst attempt to create a moraly grey character with one of the most embarassing monologs about how he wainted to bulit a castle when he was young.At first,he seem as a great mystery,a mastermind,but in the end his motivations to kill millions of people are never explain and he remiains a psycho killer with no motivations. \\r\\n \\r\\nSuogu:The main antagonist on the second arc is a fucking butterfly that doesn\\'t even desrve that title,he\\'s bad like he was one of evil guy of Disney,in fact,they\\'re far better written and characterised that this thing.He\\'s a rapist evil butterfly dude,oh the depth. \\r\\n \\r\\nEnjoyment:5 \\r\\nDespite of all stupidness,I have fun watching it but I would\\'t recommend this thing to anyone. \\r\\n  \\r\\nOverall:4 \\r\\nSAO is not the masterpiece that someones claim to be,it\\'s not as bad as some claim to be but itr\\'s bad. \\r\\nItr\\'s a better overrated show,itr\\'s doesn\\'t mean that you can like it or enjoy it,I fact I had fun watching it. \\r\\nIt\\'s not like the concept it\\'s new or the romance is the best. \\r\\nFor another animes to see,I recommend to check out \\r\\n-Eden of the east-very original death game and far better romance \\r\\n-Log Horizon-More technical about gaming things for all MMORPG fans out there. \\r\\n \\r\\nSo,that\\'s all folks.\\n\\n          \\n \\n       Helpful \\n   \\n      '"
      ]
     },
     "metadata": {},
     "output_type": "display_data"
    },
    {
     "name": "stdout",
     "output_type": "stream",
     "text": [
      "\n",
      "\n"
     ]
    }
   ],
   "source": [
    "# check 3 text samples from the review\n",
    "\n",
    "random_num_list = []\n",
    "\n",
    "for i in range(3):\n",
    "    random_num_list.append(random.randint(0, len(df)))\n",
    "\n",
    "for i in random_num_list:\n",
    "    print('review from', df.loc[i, 'profile'], ':')\n",
    "    display(df.loc[i, 'text'])\n",
    "    print('\\n')"
   ]
  },
  {
   "cell_type": "code",
   "execution_count": 10,
   "metadata": {},
   "outputs": [],
   "source": [
    "def clean_text(text):\n",
    "    pattern_b = r'^more\\spics\\s\\sOverall\\d+Story\\d+Animation\\s\\s\\d+Sound\\s\\s\\d+\\sCharacter\\d+Enjoyment\\d+'\n",
    "    pattern_e = r'\\bHelpful\\b'\n",
    "    \n",
    "    text = text.replace('\\n', '')\n",
    "    text = text.replace('\\r', '')\n",
    "    text = text.replace('   ', '')\n",
    "    \n",
    "    text = re.sub(pattern_b, '', text)\n",
    "    text = re.sub(pattern_e, '', text)\n",
    "    text = re.sub(r'(?<=[.,!])(?=[^\\s])', r' ', text)\n",
    "    \n",
    "    text = text.strip()\n",
    "    \n",
    "    return text"
   ]
  },
  {
   "cell_type": "code",
   "execution_count": 11,
   "metadata": {},
   "outputs": [
    {
     "data": {
      "text/html": [
       "<div>\n",
       "<style scoped>\n",
       "    .dataframe tbody tr th:only-of-type {\n",
       "        vertical-align: middle;\n",
       "    }\n",
       "\n",
       "    .dataframe tbody tr th {\n",
       "        vertical-align: top;\n",
       "    }\n",
       "\n",
       "    .dataframe thead th {\n",
       "        text-align: right;\n",
       "    }\n",
       "</style>\n",
       "<table border=\"1\" class=\"dataframe\">\n",
       "  <thead>\n",
       "    <tr style=\"text-align: right;\">\n",
       "      <th></th>\n",
       "      <th>uid_x</th>\n",
       "      <th>profile</th>\n",
       "      <th>anime_uid</th>\n",
       "      <th>title</th>\n",
       "      <th>text</th>\n",
       "      <th>score</th>\n",
       "      <th>scores</th>\n",
       "    </tr>\n",
       "  </thead>\n",
       "  <tbody>\n",
       "    <tr>\n",
       "      <th>0</th>\n",
       "      <td>255938</td>\n",
       "      <td>DesolatePsyche</td>\n",
       "      <td>34096</td>\n",
       "      <td>Gintama.</td>\n",
       "      <td>First things first. My \"reviews\" system is exp...</td>\n",
       "      <td>8</td>\n",
       "      <td>{'Overall': '8', 'Story': '8', 'Animation': '8...</td>\n",
       "    </tr>\n",
       "    <tr>\n",
       "      <th>1</th>\n",
       "      <td>259117</td>\n",
       "      <td>baekbeans</td>\n",
       "      <td>34599</td>\n",
       "      <td>Made in Abyss</td>\n",
       "      <td>Let me start off by saying that Made in Abyss ...</td>\n",
       "      <td>10</td>\n",
       "      <td>{'Overall': '10', 'Story': '10', 'Animation': ...</td>\n",
       "    </tr>\n",
       "    <tr>\n",
       "      <th>2</th>\n",
       "      <td>253664</td>\n",
       "      <td>skrn</td>\n",
       "      <td>28891</td>\n",
       "      <td>Haikyuu!! Second Season</td>\n",
       "      <td>Art 9/10: It is great, especially the actions ...</td>\n",
       "      <td>7</td>\n",
       "      <td>{'Overall': '7', 'Story': '7', 'Animation': '9...</td>\n",
       "    </tr>\n",
       "    <tr>\n",
       "      <th>3</th>\n",
       "      <td>8254</td>\n",
       "      <td>edgewalker00</td>\n",
       "      <td>2904</td>\n",
       "      <td>Code Geass: Hangyaku no Lelouch R2</td>\n",
       "      <td>Story  taking place 1 yr from where season 1 t...</td>\n",
       "      <td>9</td>\n",
       "      <td>{'Overall': '9', 'Story': '9', 'Animation': '9...</td>\n",
       "    </tr>\n",
       "    <tr>\n",
       "      <th>4</th>\n",
       "      <td>291149</td>\n",
       "      <td>aManOfCulture99</td>\n",
       "      <td>4181</td>\n",
       "      <td>Clannad: After Story</td>\n",
       "      <td>Kyoto Animations greatest strength is being ab...</td>\n",
       "      <td>10</td>\n",
       "      <td>{'Overall': '10', 'Story': '10', 'Animation': ...</td>\n",
       "    </tr>\n",
       "  </tbody>\n",
       "</table>\n",
       "</div>"
      ],
      "text/plain": [
       "    uid_x          profile  anime_uid                               title  \\\n",
       "0  255938   DesolatePsyche      34096                            Gintama.   \n",
       "1  259117        baekbeans      34599                       Made in Abyss   \n",
       "2  253664             skrn      28891             Haikyuu!! Second Season   \n",
       "3    8254     edgewalker00       2904  Code Geass: Hangyaku no Lelouch R2   \n",
       "4  291149  aManOfCulture99       4181                Clannad: After Story   \n",
       "\n",
       "                                                text  score  \\\n",
       "0  First things first. My \"reviews\" system is exp...      8   \n",
       "1  Let me start off by saying that Made in Abyss ...     10   \n",
       "2  Art 9/10: It is great, especially the actions ...      7   \n",
       "3  Story  taking place 1 yr from where season 1 t...      9   \n",
       "4  Kyoto Animations greatest strength is being ab...     10   \n",
       "\n",
       "                                              scores  \n",
       "0  {'Overall': '8', 'Story': '8', 'Animation': '8...  \n",
       "1  {'Overall': '10', 'Story': '10', 'Animation': ...  \n",
       "2  {'Overall': '7', 'Story': '7', 'Animation': '9...  \n",
       "3  {'Overall': '9', 'Story': '9', 'Animation': '9...  \n",
       "4  {'Overall': '10', 'Story': '10', 'Animation': ...  "
      ]
     },
     "execution_count": 11,
     "metadata": {},
     "output_type": "execute_result"
    }
   ],
   "source": [
    "df['text'] = df['text'].map(clean_text)\n",
    "df.head(5)"
   ]
  },
  {
   "cell_type": "code",
   "execution_count": 12,
   "metadata": {},
   "outputs": [
    {
     "data": {
      "text/html": [
       "<div>\n",
       "<style scoped>\n",
       "    .dataframe tbody tr th:only-of-type {\n",
       "        vertical-align: middle;\n",
       "    }\n",
       "\n",
       "    .dataframe tbody tr th {\n",
       "        vertical-align: top;\n",
       "    }\n",
       "\n",
       "    .dataframe thead th {\n",
       "        text-align: right;\n",
       "    }\n",
       "</style>\n",
       "<table border=\"1\" class=\"dataframe\">\n",
       "  <thead>\n",
       "    <tr style=\"text-align: right;\">\n",
       "      <th></th>\n",
       "      <th>uid_x</th>\n",
       "      <th>profile</th>\n",
       "      <th>anime_uid</th>\n",
       "      <th>title</th>\n",
       "      <th>text</th>\n",
       "      <th>Overall</th>\n",
       "      <th>Story</th>\n",
       "      <th>Animation</th>\n",
       "      <th>Sound</th>\n",
       "      <th>Character</th>\n",
       "      <th>Enjoyment</th>\n",
       "    </tr>\n",
       "  </thead>\n",
       "  <tbody>\n",
       "    <tr>\n",
       "      <th>0</th>\n",
       "      <td>255938</td>\n",
       "      <td>DesolatePsyche</td>\n",
       "      <td>34096</td>\n",
       "      <td>Gintama.</td>\n",
       "      <td>First things first. My \"reviews\" system is exp...</td>\n",
       "      <td>8</td>\n",
       "      <td>8</td>\n",
       "      <td>8</td>\n",
       "      <td>10</td>\n",
       "      <td>9</td>\n",
       "      <td>8</td>\n",
       "    </tr>\n",
       "    <tr>\n",
       "      <th>1</th>\n",
       "      <td>259117</td>\n",
       "      <td>baekbeans</td>\n",
       "      <td>34599</td>\n",
       "      <td>Made in Abyss</td>\n",
       "      <td>Let me start off by saying that Made in Abyss ...</td>\n",
       "      <td>10</td>\n",
       "      <td>10</td>\n",
       "      <td>10</td>\n",
       "      <td>10</td>\n",
       "      <td>10</td>\n",
       "      <td>10</td>\n",
       "    </tr>\n",
       "    <tr>\n",
       "      <th>2</th>\n",
       "      <td>253664</td>\n",
       "      <td>skrn</td>\n",
       "      <td>28891</td>\n",
       "      <td>Haikyuu!! Second Season</td>\n",
       "      <td>Art 9/10: It is great, especially the actions ...</td>\n",
       "      <td>7</td>\n",
       "      <td>7</td>\n",
       "      <td>9</td>\n",
       "      <td>8</td>\n",
       "      <td>8</td>\n",
       "      <td>8</td>\n",
       "    </tr>\n",
       "    <tr>\n",
       "      <th>3</th>\n",
       "      <td>8254</td>\n",
       "      <td>edgewalker00</td>\n",
       "      <td>2904</td>\n",
       "      <td>Code Geass: Hangyaku no Lelouch R2</td>\n",
       "      <td>Story  taking place 1 yr from where season 1 t...</td>\n",
       "      <td>9</td>\n",
       "      <td>9</td>\n",
       "      <td>9</td>\n",
       "      <td>10</td>\n",
       "      <td>10</td>\n",
       "      <td>9</td>\n",
       "    </tr>\n",
       "    <tr>\n",
       "      <th>4</th>\n",
       "      <td>291149</td>\n",
       "      <td>aManOfCulture99</td>\n",
       "      <td>4181</td>\n",
       "      <td>Clannad: After Story</td>\n",
       "      <td>Kyoto Animations greatest strength is being ab...</td>\n",
       "      <td>10</td>\n",
       "      <td>10</td>\n",
       "      <td>8</td>\n",
       "      <td>9</td>\n",
       "      <td>10</td>\n",
       "      <td>10</td>\n",
       "    </tr>\n",
       "  </tbody>\n",
       "</table>\n",
       "</div>"
      ],
      "text/plain": [
       "    uid_x          profile  anime_uid                               title  \\\n",
       "0  255938   DesolatePsyche      34096                            Gintama.   \n",
       "1  259117        baekbeans      34599                       Made in Abyss   \n",
       "2  253664             skrn      28891             Haikyuu!! Second Season   \n",
       "3    8254     edgewalker00       2904  Code Geass: Hangyaku no Lelouch R2   \n",
       "4  291149  aManOfCulture99       4181                Clannad: After Story   \n",
       "\n",
       "                                                text Overall Story Animation  \\\n",
       "0  First things first. My \"reviews\" system is exp...       8     8         8   \n",
       "1  Let me start off by saying that Made in Abyss ...      10    10        10   \n",
       "2  Art 9/10: It is great, especially the actions ...       7     7         9   \n",
       "3  Story  taking place 1 yr from where season 1 t...       9     9         9   \n",
       "4  Kyoto Animations greatest strength is being ab...      10    10         8   \n",
       "\n",
       "  Sound Character Enjoyment  \n",
       "0    10         9         8  \n",
       "1    10        10        10  \n",
       "2     8         8         8  \n",
       "3    10        10         9  \n",
       "4     9        10        10  "
      ]
     },
     "metadata": {},
     "output_type": "display_data"
    },
    {
     "name": "stdout",
     "output_type": "stream",
     "text": [
      "length of the dataframe 130519\n"
     ]
    }
   ],
   "source": [
    "# convert dictionary with str type into dict using ast.literal_eval\n",
    "# functions that helps traverse an abstract syntax tree without parsing it manually\n",
    "\n",
    "df['scores'] = df['scores'].apply(lambda x: ast.literal_eval(x))\n",
    "df_scores = df['scores'].apply(pd.Series)\n",
    "df = df.merge(df_scores, left_index=True, right_index=True)\n",
    "df = df.drop(['scores', 'score'], axis=1)\n",
    "\n",
    "display(df.head(5))\n",
    "print('length of the dataframe', len(df))"
   ]
  },
  {
   "cell_type": "markdown",
   "metadata": {},
   "source": [
    "### DataFrame Checkpoint"
   ]
  },
  {
   "cell_type": "code",
   "execution_count": 14,
   "metadata": {},
   "outputs": [],
   "source": [
    "# df.to_csv('/Users/taufiqurrohman/Documents/ds_marketing_portfolio/text_analytics/dataset/activity-8_animereviewDataSet/reviews_cleaned.csv')"
   ]
  },
  {
   "cell_type": "markdown",
   "metadata": {},
   "source": []
  },
  {
   "attachments": {},
   "cell_type": "markdown",
   "metadata": {},
   "source": [
    "# Method 1: Lexicon-Based Approaches \n",
    "\n",
    "Lexicon is a dictionary that contains a collection of words and has been compiled using expert knowledge. It has been collected for a specific purpose, and incorporates some specific knowledge around that domain. In this analysis, I will use the Bing Liu Lexicon. To look for more other Lexicon options, <a href='https://arxiv.org/pdf/1901.08319.pdf#:~:text=The%20bing%20lexicon%20was%20developed,positive%20and%204783%20are%20negative.'> click here. </a>"
   ]
  },
  {
   "cell_type": "code",
   "execution_count": 59,
   "metadata": {},
   "outputs": [],
   "source": [
    "import nltk\n",
    "from nltk.corpus import opinion_lexicon\n",
    "from nltk.tokenize import word_tokenize"
   ]
  },
  {
   "cell_type": "code",
   "execution_count": 60,
   "metadata": {},
   "outputs": [
    {
     "name": "stdout",
     "output_type": "stream",
     "text": [
      "number of words in Bing Liu opinion lexicon: 6789 \n",
      "\n",
      "example of positive words ['a+', 'abound', 'abounds', 'abundance', 'abundant', 'accessable', 'accessible', 'acclaim', 'acclaimed', 'acclamation']\n",
      "example of negative words ['2-faced', '2-faces', 'abnormal', 'abolish', 'abominable', 'abominably', 'abominate', 'abomination', 'abort', 'aborted']\n"
     ]
    }
   ],
   "source": [
    "# check inside the lexicon\n",
    "\n",
    "print('number of words in Bing Liu opinion lexicon:', len(opinion_lexicon.words()), '\\n')\n",
    "print('example of positive words', opinion_lexicon.positive()[:10])\n",
    "print('example of negative words', opinion_lexicon.negative()[:10])"
   ]
  },
  {
   "cell_type": "code",
   "execution_count": 73,
   "metadata": {},
   "outputs": [],
   "source": [
    "# create the function for opinion lexicon\n",
    "\n",
    "word_dict = {}\n",
    "\n",
    "\n",
    "# giving positive words with +1 value...\n",
    "# and giving negative words with -1 value\n",
    "\n",
    "for w in opinion_lexicon.positive():\n",
    "    word_dict[w] = 1\n",
    "    \n",
    "for w in opinion_lexicon.negative():\n",
    "    word_dict[w] = -1\n",
    "\n",
    "\n",
    "# define the function\n",
    "\n",
    "def bing_liu_score(text):\n",
    "    \n",
    "    sent_score = 0\n",
    "    bow = word_tokenize(text.lower())  # tokenize, and lower the word\n",
    "    for w in bow:\n",
    "        if w in word_dict:\n",
    "            sent_score += word_dict[w]  # giving each word score\n",
    "    \n",
    "    return sent_score / len(bow)  # dividing by the length of the review"
   ]
  },
  {
   "cell_type": "code",
   "execution_count": 62,
   "metadata": {},
   "outputs": [
    {
     "data": {
      "text/html": [
       "<div>\n",
       "<style scoped>\n",
       "    .dataframe tbody tr th:only-of-type {\n",
       "        vertical-align: middle;\n",
       "    }\n",
       "\n",
       "    .dataframe tbody tr th {\n",
       "        vertical-align: top;\n",
       "    }\n",
       "\n",
       "    .dataframe thead th {\n",
       "        text-align: right;\n",
       "    }\n",
       "</style>\n",
       "<table border=\"1\" class=\"dataframe\">\n",
       "  <thead>\n",
       "    <tr style=\"text-align: right;\">\n",
       "      <th></th>\n",
       "      <th>title</th>\n",
       "      <th>text</th>\n",
       "      <th>Overall</th>\n",
       "      <th>bing_liu_score</th>\n",
       "    </tr>\n",
       "  </thead>\n",
       "  <tbody>\n",
       "    <tr>\n",
       "      <th>60498</th>\n",
       "      <td>Boku no Pico</td>\n",
       "      <td>Boku no pico is the worst anime I have ever wa...</td>\n",
       "      <td>4</td>\n",
       "      <td>-0.021277</td>\n",
       "    </tr>\n",
       "    <tr>\n",
       "      <th>71920</th>\n",
       "      <td>Guilty Crown</td>\n",
       "      <td>Guilty Crown is certainly the kind of anime yo...</td>\n",
       "      <td>3</td>\n",
       "      <td>0.000941</td>\n",
       "    </tr>\n",
       "    <tr>\n",
       "      <th>61541</th>\n",
       "      <td>Orange</td>\n",
       "      <td>I rarely ever write reviews for anime I've com...</td>\n",
       "      <td>8</td>\n",
       "      <td>0.004049</td>\n",
       "    </tr>\n",
       "    <tr>\n",
       "      <th>122234</th>\n",
       "      <td>Mai-Otome</td>\n",
       "      <td>First off, please don't flame me as this is my...</td>\n",
       "      <td>9</td>\n",
       "      <td>0.016129</td>\n",
       "    </tr>\n",
       "    <tr>\n",
       "      <th>82487</th>\n",
       "      <td>Tsubasa Chronicle</td>\n",
       "      <td>First I saw CCS, then I noticed a new anime ca...</td>\n",
       "      <td>10</td>\n",
       "      <td>-0.015748</td>\n",
       "    </tr>\n",
       "  </tbody>\n",
       "</table>\n",
       "</div>"
      ],
      "text/plain": [
       "                    title                                               text  \\\n",
       "60498        Boku no Pico  Boku no pico is the worst anime I have ever wa...   \n",
       "71920        Guilty Crown  Guilty Crown is certainly the kind of anime yo...   \n",
       "61541              Orange  I rarely ever write reviews for anime I've com...   \n",
       "122234          Mai-Otome  First off, please don't flame me as this is my...   \n",
       "82487   Tsubasa Chronicle  First I saw CCS, then I noticed a new anime ca...   \n",
       "\n",
       "        Overall  bing_liu_score  \n",
       "60498         4       -0.021277  \n",
       "71920         3        0.000941  \n",
       "61541         8        0.004049  \n",
       "122234        9        0.016129  \n",
       "82487        10       -0.015748  "
      ]
     },
     "execution_count": 62,
     "metadata": {},
     "output_type": "execute_result"
    }
   ],
   "source": [
    "# beware of this code chunk\n",
    "# take a long time to finish all\n",
    "\n",
    "df['bing_liu_score'] = df['text'].apply(bing_liu_score)\n",
    "df[['title', 'text', 'Overall', 'bing_liu_score']].sample(5)"
   ]
  },
  {
   "cell_type": "code",
   "execution_count": 63,
   "metadata": {},
   "outputs": [
    {
     "data": {
      "text/html": [
       "<div>\n",
       "<style scoped>\n",
       "    .dataframe tbody tr th:only-of-type {\n",
       "        vertical-align: middle;\n",
       "    }\n",
       "\n",
       "    .dataframe tbody tr th {\n",
       "        vertical-align: top;\n",
       "    }\n",
       "\n",
       "    .dataframe thead th {\n",
       "        text-align: right;\n",
       "    }\n",
       "</style>\n",
       "<table border=\"1\" class=\"dataframe\">\n",
       "  <thead>\n",
       "    <tr style=\"text-align: right;\">\n",
       "      <th></th>\n",
       "      <th>title</th>\n",
       "      <th>text</th>\n",
       "      <th>Overall</th>\n",
       "      <th>Story</th>\n",
       "      <th>Animation</th>\n",
       "      <th>Sound</th>\n",
       "      <th>Character</th>\n",
       "      <th>Enjoyment</th>\n",
       "      <th>bing_liu_score</th>\n",
       "    </tr>\n",
       "  </thead>\n",
       "  <tbody>\n",
       "    <tr>\n",
       "      <th>7569</th>\n",
       "      <td>Code Geass: Hangyaku no Lelouch R2</td>\n",
       "      <td>Amazing anime with a great plot, smart and int...</td>\n",
       "      <td>10</td>\n",
       "      <td>9</td>\n",
       "      <td>8</td>\n",
       "      <td>10</td>\n",
       "      <td>10</td>\n",
       "      <td>10</td>\n",
       "      <td>0.208333</td>\n",
       "    </tr>\n",
       "    <tr>\n",
       "      <th>118386</th>\n",
       "      <td>Mouryou Senki Madara</td>\n",
       "      <td>This Was Actually A Pretty Good OVA Series  It...</td>\n",
       "      <td>8</td>\n",
       "      <td>0</td>\n",
       "      <td>0</td>\n",
       "      <td>0</td>\n",
       "      <td>0</td>\n",
       "      <td>0</td>\n",
       "      <td>0.225000</td>\n",
       "    </tr>\n",
       "    <tr>\n",
       "      <th>79593</th>\n",
       "      <td>Cello Hiki no Gauche (1982)</td>\n",
       "      <td>Simple. Wonderful. Beautiful. Comforting like ...</td>\n",
       "      <td>8</td>\n",
       "      <td>0</td>\n",
       "      <td>0</td>\n",
       "      <td>0</td>\n",
       "      <td>0</td>\n",
       "      <td>0</td>\n",
       "      <td>0.264706</td>\n",
       "    </tr>\n",
       "    <tr>\n",
       "      <th>34948</th>\n",
       "      <td>Howl no Ugoku Shiro</td>\n",
       "      <td>Visually striking and magnificent trail, this ...</td>\n",
       "      <td>9</td>\n",
       "      <td>9</td>\n",
       "      <td>10</td>\n",
       "      <td>10</td>\n",
       "      <td>10</td>\n",
       "      <td>9</td>\n",
       "      <td>0.272727</td>\n",
       "    </tr>\n",
       "    <tr>\n",
       "      <th>66235</th>\n",
       "      <td>Black Clover</td>\n",
       "      <td>Very underrated. This is my first review in My...</td>\n",
       "      <td>10</td>\n",
       "      <td>10</td>\n",
       "      <td>10</td>\n",
       "      <td>10</td>\n",
       "      <td>10</td>\n",
       "      <td>10</td>\n",
       "      <td>0.294416</td>\n",
       "    </tr>\n",
       "  </tbody>\n",
       "</table>\n",
       "</div>"
      ],
      "text/plain": [
       "                                     title  \\\n",
       "7569    Code Geass: Hangyaku no Lelouch R2   \n",
       "118386                Mouryou Senki Madara   \n",
       "79593          Cello Hiki no Gauche (1982)   \n",
       "34948                  Howl no Ugoku Shiro   \n",
       "66235                         Black Clover   \n",
       "\n",
       "                                                     text  Overall  Story  \\\n",
       "7569    Amazing anime with a great plot, smart and int...       10      9   \n",
       "118386  This Was Actually A Pretty Good OVA Series  It...        8      0   \n",
       "79593   Simple. Wonderful. Beautiful. Comforting like ...        8      0   \n",
       "34948   Visually striking and magnificent trail, this ...        9      9   \n",
       "66235   Very underrated. This is my first review in My...       10     10   \n",
       "\n",
       "        Animation  Sound  Character  Enjoyment  bing_liu_score  \n",
       "7569            8     10         10         10        0.208333  \n",
       "118386          0      0          0          0        0.225000  \n",
       "79593           0      0          0          0        0.264706  \n",
       "34948          10     10         10          9        0.272727  \n",
       "66235          10     10         10         10        0.294416  "
      ]
     },
     "execution_count": 63,
     "metadata": {},
     "output_type": "execute_result"
    }
   ],
   "source": [
    "# check top 5 ranking from bing_liu_score\n",
    "df[['title', 'text', 'Overall', 'Story', 'Animation', 'Sound', 'Character', 'Enjoyment', 'bing_liu_score']].\\\n",
    "    sort_values('bing_liu_score').tail(5)"
   ]
  },
  {
   "cell_type": "code",
   "execution_count": 64,
   "metadata": {},
   "outputs": [
    {
     "data": {
      "text/html": [
       "<div>\n",
       "<style scoped>\n",
       "    .dataframe tbody tr th:only-of-type {\n",
       "        vertical-align: middle;\n",
       "    }\n",
       "\n",
       "    .dataframe tbody tr th {\n",
       "        vertical-align: top;\n",
       "    }\n",
       "\n",
       "    .dataframe thead th {\n",
       "        text-align: right;\n",
       "    }\n",
       "</style>\n",
       "<table border=\"1\" class=\"dataframe\">\n",
       "  <thead>\n",
       "    <tr style=\"text-align: right;\">\n",
       "      <th></th>\n",
       "      <th>title</th>\n",
       "      <th>text</th>\n",
       "      <th>Overall</th>\n",
       "      <th>Story</th>\n",
       "      <th>Animation</th>\n",
       "      <th>Sound</th>\n",
       "      <th>Character</th>\n",
       "      <th>Enjoyment</th>\n",
       "      <th>bing_liu_score</th>\n",
       "    </tr>\n",
       "  </thead>\n",
       "  <tbody>\n",
       "    <tr>\n",
       "      <th>86897</th>\n",
       "      <td>Arslan Senki (TV): Fuujin Ranbu</td>\n",
       "      <td>idiot plot idiot plot idiot plot idiot plot id...</td>\n",
       "      <td>1</td>\n",
       "      <td>1</td>\n",
       "      <td>4</td>\n",
       "      <td>4</td>\n",
       "      <td>2</td>\n",
       "      <td>1</td>\n",
       "      <td>-1.000000</td>\n",
       "    </tr>\n",
       "    <tr>\n",
       "      <th>83680</th>\n",
       "      <td>Isshuukan Friends.</td>\n",
       "      <td>Crappy ending and a huge disappointment.  The ...</td>\n",
       "      <td>1</td>\n",
       "      <td>1</td>\n",
       "      <td>1</td>\n",
       "      <td>1</td>\n",
       "      <td>1</td>\n",
       "      <td>1</td>\n",
       "      <td>-0.130435</td>\n",
       "    </tr>\n",
       "    <tr>\n",
       "      <th>22140</th>\n",
       "      <td>Fate/stay night: Unlimited Blade Works</td>\n",
       "      <td>The witch is dead the witch is dead  gigamesh ...</td>\n",
       "      <td>10</td>\n",
       "      <td>9</td>\n",
       "      <td>10</td>\n",
       "      <td>7</td>\n",
       "      <td>10</td>\n",
       "      <td>9</td>\n",
       "      <td>-0.125000</td>\n",
       "    </tr>\n",
       "    <tr>\n",
       "      <th>70145</th>\n",
       "      <td>Jigoku Shoujo</td>\n",
       "      <td>The most stupid I've ever watched. Basically, ...</td>\n",
       "      <td>1</td>\n",
       "      <td>1</td>\n",
       "      <td>1</td>\n",
       "      <td>1</td>\n",
       "      <td>1</td>\n",
       "      <td>1</td>\n",
       "      <td>-0.123894</td>\n",
       "    </tr>\n",
       "    <tr>\n",
       "      <th>99018</th>\n",
       "      <td>Soujuu Senshi Psychic Wars</td>\n",
       "      <td>This is without doubt the WORST anime i have e...</td>\n",
       "      <td>1</td>\n",
       "      <td>1</td>\n",
       "      <td>1</td>\n",
       "      <td>1</td>\n",
       "      <td>1</td>\n",
       "      <td>1</td>\n",
       "      <td>-0.120000</td>\n",
       "    </tr>\n",
       "  </tbody>\n",
       "</table>\n",
       "</div>"
      ],
      "text/plain": [
       "                                        title  \\\n",
       "86897         Arslan Senki (TV): Fuujin Ranbu   \n",
       "83680                      Isshuukan Friends.   \n",
       "22140  Fate/stay night: Unlimited Blade Works   \n",
       "70145                           Jigoku Shoujo   \n",
       "99018              Soujuu Senshi Psychic Wars   \n",
       "\n",
       "                                                    text  Overall  Story  \\\n",
       "86897  idiot plot idiot plot idiot plot idiot plot id...        1      1   \n",
       "83680  Crappy ending and a huge disappointment.  The ...        1      1   \n",
       "22140  The witch is dead the witch is dead  gigamesh ...       10      9   \n",
       "70145  The most stupid I've ever watched. Basically, ...        1      1   \n",
       "99018  This is without doubt the WORST anime i have e...        1      1   \n",
       "\n",
       "       Animation  Sound  Character  Enjoyment  bing_liu_score  \n",
       "86897          4      4          2          1       -1.000000  \n",
       "83680          1      1          1          1       -0.130435  \n",
       "22140         10      7         10          9       -0.125000  \n",
       "70145          1      1          1          1       -0.123894  \n",
       "99018          1      1          1          1       -0.120000  "
      ]
     },
     "execution_count": 64,
     "metadata": {},
     "output_type": "execute_result"
    }
   ],
   "source": [
    "# check least 5 ranking from bing_liu_score\n",
    "df[['title', 'text', 'Overall', 'Story', 'Animation', 'Sound', 'Character', 'Enjoyment', 'bing_liu_score']].\\\n",
    "    sort_values('bing_liu_score').head(5)"
   ]
  },
  {
   "cell_type": "code",
   "execution_count": 65,
   "metadata": {},
   "outputs": [],
   "source": [
    "# save the dataframe as i'm going to use another method...\n",
    "# in the same dataframe\n",
    "\n",
    "bing_liu_score = df.copy(deep=True)"
   ]
  },
  {
   "attachments": {},
   "cell_type": "markdown",
   "metadata": {},
   "source": []
  },
  {
   "attachments": {},
   "cell_type": "markdown",
   "metadata": {},
   "source": [
    "# Method 2: Supervised Learning Approaches \n",
    "\n",
    "Lexicon is a dictionary that contains a collection of words and has been compiled using expert knowledge. It has been collected for a specific purpose, and incorporates some specific knowledge around that domain. In this analysis, I will use the Bing Liu Lexicon. To look for more other Lexicon options, <a href='https://arxiv.org/pdf/1901.08319.pdf#:~:text=The%20bing%20lexicon%20was%20developed,positive%20and%204783%20are%20negative.'> click here. </a>"
   ]
  },
  {
   "cell_type": "code",
   "execution_count": 3,
   "metadata": {},
   "outputs": [
    {
     "data": {
      "text/html": [
       "<div>\n",
       "<style scoped>\n",
       "    .dataframe tbody tr th:only-of-type {\n",
       "        vertical-align: middle;\n",
       "    }\n",
       "\n",
       "    .dataframe tbody tr th {\n",
       "        vertical-align: top;\n",
       "    }\n",
       "\n",
       "    .dataframe thead th {\n",
       "        text-align: right;\n",
       "    }\n",
       "</style>\n",
       "<table border=\"1\" class=\"dataframe\">\n",
       "  <thead>\n",
       "    <tr style=\"text-align: right;\">\n",
       "      <th></th>\n",
       "      <th>Unnamed: 0</th>\n",
       "      <th>uid_x</th>\n",
       "      <th>profile</th>\n",
       "      <th>anime_uid</th>\n",
       "      <th>title</th>\n",
       "      <th>text</th>\n",
       "      <th>Overall</th>\n",
       "      <th>Story</th>\n",
       "      <th>Animation</th>\n",
       "      <th>Sound</th>\n",
       "      <th>Character</th>\n",
       "      <th>Enjoyment</th>\n",
       "    </tr>\n",
       "  </thead>\n",
       "  <tbody>\n",
       "    <tr>\n",
       "      <th>0</th>\n",
       "      <td>0</td>\n",
       "      <td>255938</td>\n",
       "      <td>DesolatePsyche</td>\n",
       "      <td>34096</td>\n",
       "      <td>Gintama.</td>\n",
       "      <td>First things first. My \"reviews\" system is exp...</td>\n",
       "      <td>8</td>\n",
       "      <td>8</td>\n",
       "      <td>8</td>\n",
       "      <td>10</td>\n",
       "      <td>9</td>\n",
       "      <td>8</td>\n",
       "    </tr>\n",
       "    <tr>\n",
       "      <th>1</th>\n",
       "      <td>1</td>\n",
       "      <td>259117</td>\n",
       "      <td>baekbeans</td>\n",
       "      <td>34599</td>\n",
       "      <td>Made in Abyss</td>\n",
       "      <td>Let me start off by saying that Made in Abyss ...</td>\n",
       "      <td>10</td>\n",
       "      <td>10</td>\n",
       "      <td>10</td>\n",
       "      <td>10</td>\n",
       "      <td>10</td>\n",
       "      <td>10</td>\n",
       "    </tr>\n",
       "    <tr>\n",
       "      <th>2</th>\n",
       "      <td>2</td>\n",
       "      <td>253664</td>\n",
       "      <td>skrn</td>\n",
       "      <td>28891</td>\n",
       "      <td>Haikyuu!! Second Season</td>\n",
       "      <td>Art 9/10: It is great, especially the actions ...</td>\n",
       "      <td>7</td>\n",
       "      <td>7</td>\n",
       "      <td>9</td>\n",
       "      <td>8</td>\n",
       "      <td>8</td>\n",
       "      <td>8</td>\n",
       "    </tr>\n",
       "    <tr>\n",
       "      <th>3</th>\n",
       "      <td>3</td>\n",
       "      <td>8254</td>\n",
       "      <td>edgewalker00</td>\n",
       "      <td>2904</td>\n",
       "      <td>Code Geass: Hangyaku no Lelouch R2</td>\n",
       "      <td>Story  taking place 1 yr from where season 1 t...</td>\n",
       "      <td>9</td>\n",
       "      <td>9</td>\n",
       "      <td>9</td>\n",
       "      <td>10</td>\n",
       "      <td>10</td>\n",
       "      <td>9</td>\n",
       "    </tr>\n",
       "    <tr>\n",
       "      <th>4</th>\n",
       "      <td>4</td>\n",
       "      <td>291149</td>\n",
       "      <td>aManOfCulture99</td>\n",
       "      <td>4181</td>\n",
       "      <td>Clannad: After Story</td>\n",
       "      <td>Kyoto Animations greatest strength is being ab...</td>\n",
       "      <td>10</td>\n",
       "      <td>10</td>\n",
       "      <td>8</td>\n",
       "      <td>9</td>\n",
       "      <td>10</td>\n",
       "      <td>10</td>\n",
       "    </tr>\n",
       "  </tbody>\n",
       "</table>\n",
       "</div>"
      ],
      "text/plain": [
       "   Unnamed: 0   uid_x          profile  anime_uid  \\\n",
       "0           0  255938   DesolatePsyche      34096   \n",
       "1           1  259117        baekbeans      34599   \n",
       "2           2  253664             skrn      28891   \n",
       "3           3    8254     edgewalker00       2904   \n",
       "4           4  291149  aManOfCulture99       4181   \n",
       "\n",
       "                                title  \\\n",
       "0                            Gintama.   \n",
       "1                       Made in Abyss   \n",
       "2             Haikyuu!! Second Season   \n",
       "3  Code Geass: Hangyaku no Lelouch R2   \n",
       "4                Clannad: After Story   \n",
       "\n",
       "                                                text  Overall  Story  \\\n",
       "0  First things first. My \"reviews\" system is exp...        8      8   \n",
       "1  Let me start off by saying that Made in Abyss ...       10     10   \n",
       "2  Art 9/10: It is great, especially the actions ...        7      7   \n",
       "3  Story  taking place 1 yr from where season 1 t...        9      9   \n",
       "4  Kyoto Animations greatest strength is being ab...       10     10   \n",
       "\n",
       "   Animation  Sound  Character  Enjoyment  \n",
       "0          8     10          9          8  \n",
       "1         10     10         10         10  \n",
       "2          9      8          8          8  \n",
       "3          9     10         10          9  \n",
       "4          8      9         10         10  "
      ]
     },
     "metadata": {},
     "output_type": "display_data"
    },
    {
     "name": "stdout",
     "output_type": "stream",
     "text": [
      "length of the dataframe: 130519\n"
     ]
    }
   ],
   "source": [
    "# load the dataframe again\n",
    "\n",
    "df = pd.read_csv('/Users/taufiqurrohman/Documents/ds_marketing_portfolio/text_analytics/dataset/activity-8_animereviewDataSet/reviews_cleaned.csv')\n",
    "\n",
    "display(df.head(5))\n",
    "print('length of the dataframe:', len(df))"
   ]
  },
  {
   "cell_type": "code",
   "execution_count": 4,
   "metadata": {},
   "outputs": [
    {
     "name": "stdout",
     "output_type": "stream",
     "text": [
      "number of rating above 6: 91853\n",
      "number of rating below 6: 26220\n",
      "number of reviews with score 6: 12446\n"
     ]
    }
   ],
   "source": [
    "# annotate the review first\n",
    "# anime with score 7 and above will get 1 (positive)\n",
    "# while anime with score below 6 will get 0 (negative)\n",
    "# anime that get 6 will be filtered out as a neutral opinion on the anime\n",
    "\n",
    "thres = 6\n",
    "\n",
    "# check the length of each score first\n",
    "print(f'number of rating above {thres}:', len(df[df['Overall'] > thres]))\n",
    "print(f'number of rating below {thres}:', len(df[df['Overall'] < thres]))\n",
    "print(f'number of reviews with score {thres}:', len(df[df['Overall'] == thres]))"
   ]
  },
  {
   "cell_type": "code",
   "execution_count": 27,
   "metadata": {},
   "outputs": [
    {
     "data": {
      "text/html": [
       "<div>\n",
       "<style scoped>\n",
       "    .dataframe tbody tr th:only-of-type {\n",
       "        vertical-align: middle;\n",
       "    }\n",
       "\n",
       "    .dataframe tbody tr th {\n",
       "        vertical-align: top;\n",
       "    }\n",
       "\n",
       "    .dataframe thead th {\n",
       "        text-align: right;\n",
       "    }\n",
       "</style>\n",
       "<table border=\"1\" class=\"dataframe\">\n",
       "  <thead>\n",
       "    <tr style=\"text-align: right;\">\n",
       "      <th></th>\n",
       "      <th>text</th>\n",
       "      <th>Overall</th>\n",
       "      <th>sentiment</th>\n",
       "    </tr>\n",
       "  </thead>\n",
       "  <tbody>\n",
       "    <tr>\n",
       "      <th>78755</th>\n",
       "      <td>Does a very good job on sticking with the mang...</td>\n",
       "      <td>10</td>\n",
       "      <td>1</td>\n",
       "    </tr>\n",
       "    <tr>\n",
       "      <th>67530</th>\n",
       "      <td>Akame ga kill. . . . this series is so amazing...</td>\n",
       "      <td>10</td>\n",
       "      <td>1</td>\n",
       "    </tr>\n",
       "    <tr>\n",
       "      <th>74904</th>\n",
       "      <td>You know its kind of petty coming to MAL and h...</td>\n",
       "      <td>3</td>\n",
       "      <td>0</td>\n",
       "    </tr>\n",
       "  </tbody>\n",
       "</table>\n",
       "</div>"
      ],
      "text/plain": [
       "                                                    text  Overall  sentiment\n",
       "78755  Does a very good job on sticking with the mang...       10          1\n",
       "67530  Akame ga kill. . . . this series is so amazing...       10          1\n",
       "74904  You know its kind of petty coming to MAL and h...        3          0"
      ]
     },
     "metadata": {},
     "output_type": "display_data"
    },
    {
     "name": "stdout",
     "output_type": "stream",
     "text": [
      "length of the dataframe: 118073\n"
     ]
    }
   ],
   "source": [
    "# assigning the score now\n",
    "\n",
    "df['sentiment'] = 0\n",
    "df.loc[df['Overall'] > thres, 'sentiment'] = 1\n",
    "df.loc[df['Overall'] < thres, 'sentiment'] = 0\n",
    "df = df[df['Overall'] != thres]\n",
    "\n",
    "display(df[['text', 'Overall', 'sentiment']].sample(3))\n",
    "print('length of the dataframe:', len(df))"
   ]
  },
  {
   "attachments": {},
   "cell_type": "markdown",
   "metadata": {},
   "source": [
    "    Step 1: Data Preparation    "
   ]
  },
  {
   "cell_type": "code",
   "execution_count": 6,
   "metadata": {},
   "outputs": [],
   "source": [
    "import fun_nlp_spacy_text as pp_text"
   ]
  },
  {
   "cell_type": "code",
   "execution_count": 85,
   "metadata": {},
   "outputs": [],
   "source": [
    "import fun_nlp_spacy_text as pp_text\n",
    "\n",
    "# cleaning all the HTML tags and escapes from the text\n",
    "# then extracting the lemmatized version and taking only specific pos\n",
    "\n",
    "df['clean_text'] = df['text'].apply(pp_text.clean)\n",
    "df['clean_lemmas'] = df['clean_text'].apply(pp_text.extract_lemmas)\n",
    "df['clean_pos'] = df['clean_text'].apply(pp_text.extract_pos_to_take)\n",
    "\n",
    "df.sample(5)"
   ]
  },
  {
   "cell_type": "code",
   "execution_count": 12,
   "metadata": {},
   "outputs": [],
   "source": [
    "# normalize text\n",
    "# convert to lowercase, remove number, remove punctuation\n",
    "\n",
    "def normalize_text(text):\n",
    "    text = re.sub(r'[^\\w\\s]', '', text)\n",
    "    text = text.lower()\n",
    "    text = re.sub(r'\\d+', '', text)\n",
    "    \n",
    "    return text"
   ]
  },
  {
   "cell_type": "code",
   "execution_count": 7,
   "metadata": {},
   "outputs": [
    {
     "name": "stderr",
     "output_type": "stream",
     "text": [
      "100%|██████████| 118073/118073 [00:53<00:00, 2187.76it/s]\n",
      "100%|██████████| 118073/118073 [2:39:06<00:00, 12.37it/s]  \n"
     ]
    }
   ],
   "source": [
    "# instead of apply, use progress apply to incorporate tqdm to pandas\n",
    "# injecting tqdm to pandas apply function\n",
    "\n",
    "# IMPORTANT, running this would take around 3 hours\n",
    "\n",
    "from tqdm import tqdm\n",
    "\n",
    "tqdm.pandas()\n",
    "\n",
    "df['clean_text'] = df['text'].progress_apply(normalize_text)  \n",
    "df['clean_text'] = df['text'].progress_apply(pp_text.clean)  \n",
    "df['clean_lemmas'] = df['clean_text'].progress_apply(pp_text.extract_lemmas)"
   ]
  },
  {
   "cell_type": "code",
   "execution_count": 28,
   "metadata": {},
   "outputs": [
    {
     "data": {
      "text/html": [
       "<div>\n",
       "<style scoped>\n",
       "    .dataframe tbody tr th:only-of-type {\n",
       "        vertical-align: middle;\n",
       "    }\n",
       "\n",
       "    .dataframe tbody tr th {\n",
       "        vertical-align: top;\n",
       "    }\n",
       "\n",
       "    .dataframe thead th {\n",
       "        text-align: right;\n",
       "    }\n",
       "</style>\n",
       "<table border=\"1\" class=\"dataframe\">\n",
       "  <thead>\n",
       "    <tr style=\"text-align: right;\">\n",
       "      <th></th>\n",
       "      <th>uid_x</th>\n",
       "      <th>profile</th>\n",
       "      <th>anime_uid</th>\n",
       "      <th>title</th>\n",
       "      <th>text</th>\n",
       "      <th>Overall</th>\n",
       "      <th>Story</th>\n",
       "      <th>Animation</th>\n",
       "      <th>Sound</th>\n",
       "      <th>Character</th>\n",
       "      <th>Enjoyment</th>\n",
       "      <th>sentiment</th>\n",
       "      <th>clean_text</th>\n",
       "      <th>clean_lemmas</th>\n",
       "    </tr>\n",
       "  </thead>\n",
       "  <tbody>\n",
       "    <tr>\n",
       "      <th>108732</th>\n",
       "      <td>247297</td>\n",
       "      <td>Snuggleophagus</td>\n",
       "      <td>25183</td>\n",
       "      <td>Gangsta.</td>\n",
       "      <td>Overall one of the most enticing anime I've ev...</td>\n",
       "      <td>7</td>\n",
       "      <td>6</td>\n",
       "      <td>7</td>\n",
       "      <td>8</td>\n",
       "      <td>7</td>\n",
       "      <td>7</td>\n",
       "      <td>1</td>\n",
       "      <td>Overall one of the most enticing anime I've ev...</td>\n",
       "      <td>overall one of the most enticing anime i ve ev...</td>\n",
       "    </tr>\n",
       "    <tr>\n",
       "      <th>48425</th>\n",
       "      <td>231686</td>\n",
       "      <td>tramontina</td>\n",
       "      <td>1818</td>\n",
       "      <td>Claymore</td>\n",
       "      <td>I like comedy and this anime is virtually devo...</td>\n",
       "      <td>8</td>\n",
       "      <td>9</td>\n",
       "      <td>8</td>\n",
       "      <td>7</td>\n",
       "      <td>8</td>\n",
       "      <td>8</td>\n",
       "      <td>1</td>\n",
       "      <td>I like comedy and this anime is virtually devo...</td>\n",
       "      <td>i like comedy and this anime be virtually devo...</td>\n",
       "    </tr>\n",
       "    <tr>\n",
       "      <th>76253</th>\n",
       "      <td>213621</td>\n",
       "      <td>YMegumiShimizu</td>\n",
       "      <td>11111</td>\n",
       "      <td>Another</td>\n",
       "      <td>I found Another to be really creepy and grueso...</td>\n",
       "      <td>9</td>\n",
       "      <td>8</td>\n",
       "      <td>10</td>\n",
       "      <td>9</td>\n",
       "      <td>10</td>\n",
       "      <td>8</td>\n",
       "      <td>1</td>\n",
       "      <td>I found Another to be really creepy and grueso...</td>\n",
       "      <td>i find another to be really creepy and gruesom...</td>\n",
       "    </tr>\n",
       "    <tr>\n",
       "      <th>82003</th>\n",
       "      <td>69733</td>\n",
       "      <td>HardyisHere</td>\n",
       "      <td>11285</td>\n",
       "      <td>Black★Rock Shooter (TV)</td>\n",
       "      <td>I'll just bullet down what I think about it  S...</td>\n",
       "      <td>9</td>\n",
       "      <td>9</td>\n",
       "      <td>10</td>\n",
       "      <td>10</td>\n",
       "      <td>8</td>\n",
       "      <td>10</td>\n",
       "      <td>1</td>\n",
       "      <td>I'll just bullet down what I think about it Sh...</td>\n",
       "      <td>i will just bullet down what i think about it ...</td>\n",
       "    </tr>\n",
       "    <tr>\n",
       "      <th>50090</th>\n",
       "      <td>220055</td>\n",
       "      <td>camay1997</td>\n",
       "      <td>28907</td>\n",
       "      <td>Gate: Jieitai Kanochi nite, Kaku Tatakaeri</td>\n",
       "      <td>This is the kind of anime we should be demandi...</td>\n",
       "      <td>10</td>\n",
       "      <td>9</td>\n",
       "      <td>10</td>\n",
       "      <td>9</td>\n",
       "      <td>10</td>\n",
       "      <td>10</td>\n",
       "      <td>1</td>\n",
       "      <td>This is the kind of anime we should be demandi...</td>\n",
       "      <td>this be the kind of anime we should be demand ...</td>\n",
       "    </tr>\n",
       "  </tbody>\n",
       "</table>\n",
       "</div>"
      ],
      "text/plain": [
       "         uid_x         profile  anime_uid  \\\n",
       "108732  247297  Snuggleophagus      25183   \n",
       "48425   231686      tramontina       1818   \n",
       "76253   213621  YMegumiShimizu      11111   \n",
       "82003    69733     HardyisHere      11285   \n",
       "50090   220055       camay1997      28907   \n",
       "\n",
       "                                             title  \\\n",
       "108732                                    Gangsta.   \n",
       "48425                                     Claymore   \n",
       "76253                                      Another   \n",
       "82003                      Black★Rock Shooter (TV)   \n",
       "50090   Gate: Jieitai Kanochi nite, Kaku Tatakaeri   \n",
       "\n",
       "                                                     text  Overall  Story  \\\n",
       "108732  Overall one of the most enticing anime I've ev...        7      6   \n",
       "48425   I like comedy and this anime is virtually devo...        8      9   \n",
       "76253   I found Another to be really creepy and grueso...        9      8   \n",
       "82003   I'll just bullet down what I think about it  S...        9      9   \n",
       "50090   This is the kind of anime we should be demandi...       10      9   \n",
       "\n",
       "        Animation  Sound  Character  Enjoyment  sentiment  \\\n",
       "108732          7      8          7          7          1   \n",
       "48425           8      7          8          8          1   \n",
       "76253          10      9         10          8          1   \n",
       "82003          10     10          8         10          1   \n",
       "50090          10      9         10         10          1   \n",
       "\n",
       "                                               clean_text  \\\n",
       "108732  Overall one of the most enticing anime I've ev...   \n",
       "48425   I like comedy and this anime is virtually devo...   \n",
       "76253   I found Another to be really creepy and grueso...   \n",
       "82003   I'll just bullet down what I think about it Sh...   \n",
       "50090   This is the kind of anime we should be demandi...   \n",
       "\n",
       "                                             clean_lemmas  \n",
       "108732  overall one of the most enticing anime i ve ev...  \n",
       "48425   i like comedy and this anime be virtually devo...  \n",
       "76253   i find another to be really creepy and gruesom...  \n",
       "82003   i will just bullet down what i think about it ...  \n",
       "50090   this be the kind of anime we should be demand ...  "
      ]
     },
     "execution_count": 28,
     "metadata": {},
     "output_type": "execute_result"
    }
   ],
   "source": [
    "df.sample(5)"
   ]
  },
  {
   "cell_type": "markdown",
   "metadata": {},
   "source": [
    "### DataFrame Checkpoint"
   ]
  },
  {
   "cell_type": "code",
   "execution_count": 22,
   "metadata": {},
   "outputs": [],
   "source": [
    "df.to_csv('/Users/taufiqurrohman/Documents/ds_marketing_portfolio/text_analytics/dataset/activity-8_animereviewDataSet/reviews_cleaned_lemmas.csv')"
   ]
  },
  {
   "cell_type": "markdown",
   "metadata": {},
   "source": []
  },
  {
   "cell_type": "markdown",
   "metadata": {},
   "source": [
    "## Step 2: Train-Test Split"
   ]
  },
  {
   "cell_type": "code",
   "execution_count": 30,
   "metadata": {},
   "outputs": [],
   "source": [
    "from sklearn.model_selection import train_test_split\n",
    "\n",
    "x_train, x_test, y_train, y_test = train_test_split(df['clean_lemmas'],\n",
    "                                                    df['sentiment'],\n",
    "                                                    test_size=0.2,\n",
    "                                                    random_state=42,\n",
    "                                                    stratify=df['sentiment']  # to make distribution balanced between train-test\n",
    "                                                    )"
   ]
  },
  {
   "cell_type": "code",
   "execution_count": 32,
   "metadata": {},
   "outputs": [
    {
     "name": "stdout",
     "output_type": "stream",
     "text": [
      "length of training data  94458\n",
      "length of test data  23615\n",
      "\n",
      "distribution of classes in training data :\n",
      "positive sentiment  77.79330496093502\n",
      "negative sentiment  22.20669503906498\n",
      "\n",
      "distribution of classes in testing data :\n",
      "positive sentiment  77.79377514291764\n",
      "negative Sentiment  22.20622485708236\n"
     ]
    }
   ],
   "source": [
    "print ('length of training data ', x_train.shape[0]) \n",
    "print ('length of test data ', x_test.shape[0])\n",
    "\n",
    "print ('\\ndistribution of classes in training data :')\n",
    "print ('positive sentiment ', str(sum(y_train == 1)/ len(y_train) * 100.0)) \n",
    "print ('negative sentiment ', str(sum(y_train == 0)/ len(y_train) * 100.0))\n",
    "\n",
    "print ('\\ndistribution of classes in testing data :')\n",
    "print ('positive sentiment ', str(sum(y_test == 1)/ len(y_test) * 100.0))\n",
    "print ('negative Sentiment ', str(sum(y_test == 0)/ len(y_test) * 100.0))"
   ]
  },
  {
   "cell_type": "markdown",
   "metadata": {},
   "source": []
  },
  {
   "cell_type": "markdown",
   "metadata": {},
   "source": [
    "## Step 3: Text Vectorization"
   ]
  },
  {
   "cell_type": "code",
   "execution_count": 34,
   "metadata": {},
   "outputs": [],
   "source": [
    "from sklearn.feature_extraction.text import TfidfVectorizer\n",
    "\n",
    "tfidf = TfidfVectorizer(min_df=10, ngram_range=(1,1))\n",
    "\n",
    "x_train_tf = tfidf.fit_transform(x_train)\n",
    "x_test_tf = tfidf.transform(x_test)  # only transform, the model was already fit by train"
   ]
  },
  {
   "cell_type": "markdown",
   "metadata": {},
   "source": []
  },
  {
   "attachments": {},
   "cell_type": "markdown",
   "metadata": {},
   "source": [
    "## Step 4: Training the Model\n",
    "\n",
    "Using the LinearSVC: Works well with a large number of numeric features, and is **quite fast** compared to other algorithms."
   ]
  },
  {
   "cell_type": "code",
   "execution_count": 40,
   "metadata": {},
   "outputs": [
    {
     "data": {
      "text/plain": [
       "LinearSVC(random_state=42, tol=1e-05)"
      ]
     },
     "execution_count": 40,
     "metadata": {},
     "output_type": "execute_result"
    }
   ],
   "source": [
    "from sklearn.svm import LinearSVC\n",
    "\n",
    "model1 = LinearSVC(random_state=42, tol=1e-5)\n",
    "model1.fit(x_train_tf, y_train)"
   ]
  },
  {
   "attachments": {},
   "cell_type": "markdown",
   "metadata": {},
   "source": [
    "It can be extended by showing the transparency of the algorithm using **Text Class Explanation** from the Activity 5."
   ]
  },
  {
   "cell_type": "code",
   "execution_count": 42,
   "metadata": {},
   "outputs": [],
   "source": [
    "# calculating the accuracy of the mode\n",
    "\n",
    "from sklearn.metrics import accuracy_score\n",
    "from sklearn.metrics import roc_auc_score"
   ]
  },
  {
   "cell_type": "markdown",
   "metadata": {},
   "source": [
    "    Evaluate the Model"
   ]
  },
  {
   "cell_type": "code",
   "execution_count": 46,
   "metadata": {},
   "outputs": [
    {
     "name": "stdout",
     "output_type": "stream",
     "text": [
      "accuracy: 0.9089561719246242\n",
      "roc_score: 0.8476003701319955\n"
     ]
    }
   ],
   "source": [
    "ypred = model1.predict(x_test_tf)\n",
    "\n",
    "print('accuracy:', accuracy_score(y_test, ypred))\n",
    "print('roc_score:', roc_auc_score(y_test, ypred))"
   ]
  },
  {
   "attachments": {},
   "cell_type": "markdown",
   "metadata": {},
   "source": [
    "    Compare to the Baseline: Bing Liu Lexicon"
   ]
  },
  {
   "cell_type": "code",
   "execution_count": 76,
   "metadata": {},
   "outputs": [],
   "source": [
    "def baseline_score(text):\n",
    "    score = bing_liu_score(text)\n",
    "    if score > 0:  # positive sentiment\n",
    "        return 1\n",
    "    else:  # negative sentiment\n",
    "        return 0"
   ]
  },
  {
   "cell_type": "code",
   "execution_count": 78,
   "metadata": {},
   "outputs": [
    {
     "name": "stdout",
     "output_type": "stream",
     "text": [
      "accuracy: 0.7783612110946433\n",
      "roc_score: 0.6877504837771925\n"
     ]
    }
   ],
   "source": [
    "# evaluation for bing liu model\n",
    "\n",
    "ypred_baseline = x_test.apply(baseline_score)\n",
    "acc_score = accuracy_score(ypred_baseline, y_test)\n",
    "roc_score = roc_auc_score(ypred_baseline, y_test)\n",
    "\n",
    "print('accuracy:', acc_score)\n",
    "print('roc_score:', roc_score)"
   ]
  },
  {
   "attachments": {},
   "cell_type": "markdown",
   "metadata": {},
   "source": [
    "    Check with the Real Data    "
   ]
  },
  {
   "cell_type": "code",
   "execution_count": 79,
   "metadata": {},
   "outputs": [
    {
     "data": {
      "text/html": [
       "<div>\n",
       "<style scoped>\n",
       "    .dataframe tbody tr th:only-of-type {\n",
       "        vertical-align: middle;\n",
       "    }\n",
       "\n",
       "    .dataframe tbody tr th {\n",
       "        vertical-align: top;\n",
       "    }\n",
       "\n",
       "    .dataframe thead th {\n",
       "        text-align: right;\n",
       "    }\n",
       "</style>\n",
       "<table border=\"1\" class=\"dataframe\">\n",
       "  <thead>\n",
       "    <tr style=\"text-align: right;\">\n",
       "      <th></th>\n",
       "      <th>title</th>\n",
       "      <th>text</th>\n",
       "      <th>clean_lemmas</th>\n",
       "      <th>Overall</th>\n",
       "      <th>sentiment</th>\n",
       "      <th>sentiment_pred</th>\n",
       "    </tr>\n",
       "  </thead>\n",
       "  <tbody>\n",
       "    <tr>\n",
       "      <th>117861</th>\n",
       "      <td>Hitsugi no Chaika: Avenging Battle</td>\n",
       "      <td>The original \"Hitsugi no Chaika\"was a pleasant...</td>\n",
       "      <td>the original  hitsugi no chaikawas a pleasant ...</td>\n",
       "      <td>5</td>\n",
       "      <td>0</td>\n",
       "      <td>0</td>\n",
       "    </tr>\n",
       "    <tr>\n",
       "      <th>126404</th>\n",
       "      <td>Vampire Knight</td>\n",
       "      <td>I saw an AMV of Vampire Knight in Youtube and ...</td>\n",
       "      <td>i see an amv of vampire knight in youtube and ...</td>\n",
       "      <td>9</td>\n",
       "      <td>1</td>\n",
       "      <td>0</td>\n",
       "    </tr>\n",
       "    <tr>\n",
       "      <th>31130</th>\n",
       "      <td>Dr. Stone</td>\n",
       "      <td>What got me interested in the show was this id...</td>\n",
       "      <td>what get i interested in the show be this idea...</td>\n",
       "      <td>3</td>\n",
       "      <td>0</td>\n",
       "      <td>0</td>\n",
       "    </tr>\n",
       "    <tr>\n",
       "      <th>52711</th>\n",
       "      <td>Yowamushi Pedal: New Generation</td>\n",
       "      <td>background: i'm an avid sports anime fan, i lo...</td>\n",
       "      <td>background  i be an avid sport anime fan  i lo...</td>\n",
       "      <td>9</td>\n",
       "      <td>1</td>\n",
       "      <td>1</td>\n",
       "    </tr>\n",
       "    <tr>\n",
       "      <th>44909</th>\n",
       "      <td>Youjo Senki</td>\n",
       "      <td>I really was thrown at the end, I thought Tany...</td>\n",
       "      <td>i really be throw at the end  i think tanya mi...</td>\n",
       "      <td>9</td>\n",
       "      <td>1</td>\n",
       "      <td>1</td>\n",
       "    </tr>\n",
       "    <tr>\n",
       "      <th>89862</th>\n",
       "      <td>Yozakura Quartet: Hana no Uta</td>\n",
       "      <td>What do you get when you mix a weird and refre...</td>\n",
       "      <td>what do you get when you mix a weird and refre...</td>\n",
       "      <td>7</td>\n",
       "      <td>1</td>\n",
       "      <td>1</td>\n",
       "    </tr>\n",
       "    <tr>\n",
       "      <th>118215</th>\n",
       "      <td>SoniAni: Super Sonico The Animation</td>\n",
       "      <td>SuperSonico: The Animation started off well en...</td>\n",
       "      <td>supersonico  the animation start off well enou...</td>\n",
       "      <td>3</td>\n",
       "      <td>0</td>\n",
       "      <td>0</td>\n",
       "    </tr>\n",
       "    <tr>\n",
       "      <th>762</th>\n",
       "      <td>Wolf's Rain</td>\n",
       "      <td>Wolf's Rain is one of its kind and that means ...</td>\n",
       "      <td>wolf s rain be one of its kind and that mean t...</td>\n",
       "      <td>10</td>\n",
       "      <td>1</td>\n",
       "      <td>1</td>\n",
       "    </tr>\n",
       "    <tr>\n",
       "      <th>31396</th>\n",
       "      <td>Kimi no Suizou wo Tabetai</td>\n",
       "      <td>I honestly don't care if people say this is ge...</td>\n",
       "      <td>i honestly do not care if people say this be g...</td>\n",
       "      <td>10</td>\n",
       "      <td>1</td>\n",
       "      <td>1</td>\n",
       "    </tr>\n",
       "    <tr>\n",
       "      <th>53459</th>\n",
       "      <td>Hourou Musuko</td>\n",
       "      <td>I enjoyed Hourou Musuko a lot, actually. It wa...</td>\n",
       "      <td>i enjoy hourou musuko a lot  actually  it be r...</td>\n",
       "      <td>7</td>\n",
       "      <td>1</td>\n",
       "      <td>1</td>\n",
       "    </tr>\n",
       "  </tbody>\n",
       "</table>\n",
       "</div>"
      ],
      "text/plain": [
       "                                      title  \\\n",
       "117861   Hitsugi no Chaika: Avenging Battle   \n",
       "126404                       Vampire Knight   \n",
       "31130                             Dr. Stone   \n",
       "52711       Yowamushi Pedal: New Generation   \n",
       "44909                           Youjo Senki   \n",
       "89862         Yozakura Quartet: Hana no Uta   \n",
       "118215  SoniAni: Super Sonico The Animation   \n",
       "762                             Wolf's Rain   \n",
       "31396             Kimi no Suizou wo Tabetai   \n",
       "53459                         Hourou Musuko   \n",
       "\n",
       "                                                     text  \\\n",
       "117861  The original \"Hitsugi no Chaika\"was a pleasant...   \n",
       "126404  I saw an AMV of Vampire Knight in Youtube and ...   \n",
       "31130   What got me interested in the show was this id...   \n",
       "52711   background: i'm an avid sports anime fan, i lo...   \n",
       "44909   I really was thrown at the end, I thought Tany...   \n",
       "89862   What do you get when you mix a weird and refre...   \n",
       "118215  SuperSonico: The Animation started off well en...   \n",
       "762     Wolf's Rain is one of its kind and that means ...   \n",
       "31396   I honestly don't care if people say this is ge...   \n",
       "53459   I enjoyed Hourou Musuko a lot, actually. It wa...   \n",
       "\n",
       "                                             clean_lemmas  Overall  sentiment  \\\n",
       "117861  the original  hitsugi no chaikawas a pleasant ...        5          0   \n",
       "126404  i see an amv of vampire knight in youtube and ...        9          1   \n",
       "31130   what get i interested in the show be this idea...        3          0   \n",
       "52711   background  i be an avid sport anime fan  i lo...        9          1   \n",
       "44909   i really be throw at the end  i think tanya mi...        9          1   \n",
       "89862   what do you get when you mix a weird and refre...        7          1   \n",
       "118215  supersonico  the animation start off well enou...        3          0   \n",
       "762     wolf s rain be one of its kind and that mean t...       10          1   \n",
       "31396   i honestly do not care if people say this be g...       10          1   \n",
       "53459   i enjoy hourou musuko a lot  actually  it be r...        7          1   \n",
       "\n",
       "        sentiment_pred  \n",
       "117861               0  \n",
       "126404               0  \n",
       "31130                0  \n",
       "52711                1  \n",
       "44909                1  \n",
       "89862                1  \n",
       "118215               0  \n",
       "762                  1  \n",
       "31396                1  \n",
       "53459                1  "
      ]
     },
     "execution_count": 79,
     "metadata": {},
     "output_type": "execute_result"
    }
   ],
   "source": [
    "# checking the model\n",
    "\n",
    "sample_text = df[['title', 'text', 'clean_lemmas', 'Overall', 'sentiment']].sample(10)\n",
    "\n",
    "# take the x sample and transform\n",
    "\n",
    "x_sample = sample_text['clean_lemmas']\n",
    "x_sample_tf = tfidf.transform(x_sample)\n",
    "\n",
    "# fit to the model and make a prediction based on it\n",
    "\n",
    "sample_text['sentiment_pred'] = model1.predict(x_sample_tf)\n",
    "sample_text"
   ]
  },
  {
   "cell_type": "markdown",
   "metadata": {},
   "source": []
  },
  {
   "attachments": {},
   "cell_type": "markdown",
   "metadata": {},
   "source": [
    "# Method 3: Transfer Learning & Pretrained Language Model\n",
    "\n",
    "Using BERT model, a pretrained model made by Google. BERT model was developed primarily on TensorFlow, so we have to make our data in tensor format. To do this, we can make use of Transformers library by Hugging Face. "
   ]
  },
  {
   "cell_type": "code",
   "execution_count": 29,
   "metadata": {},
   "outputs": [],
   "source": [
    "df = pd.read_csv('/Users/taufiqurrohman/Documents/ds_marketing_portfolio/text_analytics/dataset/activity-8_animereviewDataSet/reviews_cleaned_lemmas.csv')\n",
    "df = df.drop('Unnamed: 0', axis=1)"
   ]
  },
  {
   "attachments": {},
   "cell_type": "markdown",
   "metadata": {},
   "source": [
    "## Step 1: Loading Models and Tokenization"
   ]
  },
  {
   "cell_type": "code",
   "execution_count": 13,
   "metadata": {},
   "outputs": [
    {
     "name": "stderr",
     "output_type": "stream",
     "text": [
      "Some weights of the model checkpoint at bert-base-uncased were not used when initializing BertForSequenceClassification: ['cls.predictions.bias', 'cls.seq_relationship.bias', 'cls.predictions.transform.dense.weight', 'cls.predictions.transform.LayerNorm.bias', 'cls.predictions.transform.LayerNorm.weight', 'cls.seq_relationship.weight', 'cls.predictions.transform.dense.bias', 'cls.predictions.decoder.weight']\n",
      "- This IS expected if you are initializing BertForSequenceClassification from the checkpoint of a model trained on another task or with another architecture (e.g. initializing a BertForSequenceClassification model from a BertForPreTraining model).\n",
      "- This IS NOT expected if you are initializing BertForSequenceClassification from the checkpoint of a model that you expect to be exactly identical (initializing a BertForSequenceClassification model from a BertForSequenceClassification model).\n",
      "Some weights of BertForSequenceClassification were not initialized from the model checkpoint at bert-base-uncased and are newly initialized: ['classifier.bias', 'classifier.weight']\n",
      "You should probably TRAIN this model on a down-stream task to be able to use it for predictions and inference.\n"
     ]
    }
   ],
   "source": [
    "# model architecture and weighs are downloaded from AWS S3 bucket hosted by HuggingF Face\n",
    "# add finetuning_task parameter as binary, because we're going to predict the sentiment\n",
    "\n",
    "from transformers import BertConfig, BertTokenizer, BertForSequenceClassification\n",
    "\n",
    "config = BertConfig.from_pretrained('bert-base-uncased', finetuning_task='binary')\n",
    "tokenizer = BertTokenizer.from_pretrained('bert-base-uncased')\n",
    "model = BertForSequenceClassification.from_pretrained('bert-base-uncased')"
   ]
  },
  {
   "attachments": {},
   "cell_type": "markdown",
   "metadata": {},
   "source": [
    "    Transforming Data Based on the Architecture\n",
    "\n",
    "New function here: **assert**\n",
    "\n",
    "Assertions are statements that you can use to set sanity checks during the development process. Assertions allow you to test the correctness of your code by checking if some specific conditions remain true, which can come in handy while you’re debugging code. The assertion condition should always be true unless you have a bug in your program. If the condition turns out to be false, then the assertion raises an exception and terminates the execution of your program. More info about the assertion,<a href='https://realpython.com/python-assert-statement/#getting-to-know-assertions-in-python'> click here</a>.\n",
    "\n"
   ]
  },
  {
   "cell_type": "code",
   "execution_count": 14,
   "metadata": {},
   "outputs": [],
   "source": [
    "def get_tokens(text, tokenizer, max_seq_length, add_special_tokens=True):\n",
    "    input_ids = tokenizer.encode(text,\n",
    "                                 add_special_tokens=add_special_tokens,\n",
    "                                 max_length=max_seq_length,\n",
    "                                 pad_to_max_length=True)\n",
    "    attention_mask = [int(id > 0) for id in input_ids]\n",
    "    \n",
    "    assert len(input_ids) == max_seq_length  # assertion, should be true. else, raise exception\n",
    "    assert len(attention_mask) == max_seq_length  # assertion, should be true. else, raise exception\n",
    "    \n",
    "    return (input_ids, attention_mask)"
   ]
  },
  {
   "cell_type": "code",
   "execution_count": 15,
   "metadata": {},
   "outputs": [],
   "source": [
    "ex_text = 'After a difficult debut campaign in Paris, Lionel Messi has netted 18 goals and provided 19 assists this season and has spoken of his happiness at adapting to life in France this term.'"
   ]
  },
  {
   "cell_type": "code",
   "execution_count": 21,
   "metadata": {},
   "outputs": [
    {
     "name": "stdout",
     "output_type": "stream",
     "text": [
      "After a difficult debut campaign in Paris, Lionel Messi has netted 18 goals and provided 19 assists this season and has spoken of his happiness at adapting to life in France this term. \n",
      "\n",
      "['[CLS]', 'after', 'a', 'difficult', 'debut', 'campaign', 'in', 'paris', ',', 'lionel', 'mess', '##i', 'has', 'net', '##ted', '18', 'goals', 'and', 'provided', '19', 'assists', 'this', 'season', 'and', 'has', 'spoken', 'of', 'his', 'happiness', 'at', 'adapting', 'to', 'life', 'in', 'france', 'this', 'term', '.', '[SEP]', '[PAD]', '[PAD]', '[PAD]', '[PAD]', '[PAD]', '[PAD]', '[PAD]', '[PAD]', '[PAD]', '[PAD]', '[PAD]', '[PAD]', '[PAD]', '[PAD]', '[PAD]', '[PAD]', '[PAD]', '[PAD]', '[PAD]', '[PAD]', '[PAD]', '[PAD]', '[PAD]', '[PAD]', '[PAD]', '[PAD]', '[PAD]', '[PAD]', '[PAD]', '[PAD]', '[PAD]', '[PAD]', '[PAD]', '[PAD]', '[PAD]', '[PAD]', '[PAD]', '[PAD]', '[PAD]', '[PAD]', '[PAD]', '[PAD]', '[PAD]', '[PAD]', '[PAD]', '[PAD]', '[PAD]', '[PAD]', '[PAD]', '[PAD]', '[PAD]', '[PAD]', '[PAD]', '[PAD]', '[PAD]', '[PAD]', '[PAD]', '[PAD]', '[PAD]', '[PAD]', '[PAD]']\n",
      "[101, 2044, 1037, 3697, 2834, 3049, 1999, 3000, 1010, 14377, 6752, 2072, 2038, 5658, 3064, 2324, 3289, 1998, 3024, 2539, 8456, 2023, 2161, 1998, 2038, 5287, 1997, 2010, 8404, 2012, 25357, 2000, 2166, 1999, 2605, 2023, 2744, 1012, 102, 0, 0, 0, 0, 0, 0, 0, 0, 0, 0, 0, 0, 0, 0, 0, 0, 0, 0, 0, 0, 0, 0, 0, 0, 0, 0, 0, 0, 0, 0, 0, 0, 0, 0, 0, 0, 0, 0, 0, 0, 0, 0, 0, 0, 0, 0, 0, 0, 0, 0, 0, 0, 0, 0, 0, 0, 0, 0, 0, 0, 0]\n",
      "[1, 1, 1, 1, 1, 1, 1, 1, 1, 1, 1, 1, 1, 1, 1, 1, 1, 1, 1, 1, 1, 1, 1, 1, 1, 1, 1, 1, 1, 1, 1, 1, 1, 1, 1, 1, 1, 1, 1, 0, 0, 0, 0, 0, 0, 0, 0, 0, 0, 0, 0, 0, 0, 0, 0, 0, 0, 0, 0, 0, 0, 0, 0, 0, 0, 0, 0, 0, 0, 0, 0, 0, 0, 0, 0, 0, 0, 0, 0, 0, 0, 0, 0, 0, 0, 0, 0, 0, 0, 0, 0, 0, 0, 0, 0, 0, 0, 0, 0, 0]\n"
     ]
    }
   ],
   "source": [
    "input_ids, attention_mask = get_tokens(ex_text,\n",
    "                                       tokenizer,\n",
    "                                       max_seq_length=100,  # set the maximum text length\n",
    "                                       add_special_tokens=True)\n",
    "\n",
    "input_tokens = tokenizer.convert_ids_to_tokens(input_ids)  # convert the id of the token to the text itself (token)\n",
    "\n",
    "print(ex_text, '\\n')\n",
    "print(input_tokens)\n",
    "print(input_ids)\n",
    "print(attention_mask)"
   ]
  },
  {
   "attachments": {},
   "cell_type": "markdown",
   "metadata": {},
   "source": [
    "    Brief Explanation about the Tags\n",
    "\n",
    "- [CLS] Classification: Marking the beginning of the sentence\n",
    "- [SEP] Separator: Marking for a new sentence, usually placed after the period mark\n",
    "- [PAD] Padding: Ensure shorter sequences will have the same length as either the longest sequence in a batch or the maximum length accepted by the model."
   ]
  },
  {
   "attachments": {},
   "cell_type": "markdown",
   "metadata": {},
   "source": [
    "    Split model to Train-test Set"
   ]
  },
  {
   "cell_type": "code",
   "execution_count": 33,
   "metadata": {},
   "outputs": [
    {
     "name": "stdout",
     "output_type": "stream",
     "text": [
      "length of training data  94458\n",
      "length of test data  23615\n",
      "\n",
      "distribution of classes in training data :\n",
      "positive sentiment  77.79330496093502\n",
      "negative sentiment  22.20669503906498\n",
      "\n",
      "distribution of classes in testing data :\n",
      "positive sentiment  77.79377514291764\n",
      "negative Sentiment  22.20622485708236\n"
     ]
    }
   ],
   "source": [
    "x_train, x_test, y_train, y_test = train_test_split(df['text'],  # for deep learning based model, USE THE ORIGINAL TEXT, not the cleaned one\n",
    "                                                    df['sentiment'],\n",
    "                                                    test_size=0.2,\n",
    "                                                    random_state=42,\n",
    "                                                    stratify=df['sentiment'])\n",
    "\n",
    "print ('length of training data ', x_train.shape[0]) \n",
    "print ('length of test data ', x_test.shape[0])\n",
    "\n",
    "print ('\\ndistribution of classes in training data :')\n",
    "print ('positive sentiment ', str(sum(y_train == 1)/ len(y_train) * 100.0)) \n",
    "print ('negative sentiment ', str(sum(y_train == 0)/ len(y_train) * 100.0))\n",
    "\n",
    "print ('\\ndistribution of classes in testing data :')\n",
    "print ('positive sentiment ', str(sum(y_test == 1)/ len(y_test) * 100.0))\n",
    "print ('negative Sentiment ', str(sum(y_test == 0)/ len(y_test) * 100.0))"
   ]
  },
  {
   "cell_type": "code",
   "execution_count": null,
   "metadata": {},
   "outputs": [],
   "source": [
    "x_train_tokens = x_train.apply(get_tokens, args=(tokenizer,\n",
    "                                                 max_seq_length=100,  # set the maximum text length\n",
    "                                                 add_special_tokens=True))"
   ]
  },
  {
   "cell_type": "code",
   "execution_count": 42,
   "metadata": {},
   "outputs": [
    {
     "name": "stderr",
     "output_type": "stream",
     "text": [
      "  0%|          | 1/94458 [00:00<4:21:45,  6.01it/s]/Users/taufiqurrohman/opt/anaconda3/lib/python3.9/site-packages/transformers/tokenization_utils_base.py:2346: FutureWarning: The `pad_to_max_length` argument is deprecated and will be removed in a future version, use `padding=True` or `padding='longest'` to pad to the longest sequence in the batch, or use `padding='max_length'` to pad to a max length. In this case, you can give a specific length with `max_length` (e.g. `max_length=45`) or leave max_length to None to pad to the maximal input size of the model (e.g. 512 for Bert).\n",
      "  warnings.warn(\n",
      "100%|██████████| 94458/94458 [19:46<00:00, 79.62it/s]  \n",
      "100%|██████████| 23615/23615 [04:29<00:00, 87.64it/s] \n"
     ]
    }
   ],
   "source": [
    "# tokenized the train and test text using apply function to series\n",
    "# beware, take long time to finish running this code\n",
    "\n",
    "from tqdm import tqdm\n",
    "\n",
    "tqdm.pandas()\n",
    "\n",
    "x_train_tokens = x_train.progress_apply(get_tokens, args=(tokenizer, 100, True))\n",
    "x_test_tokens = x_test.progress_apply(get_tokens, args=(tokenizer, 100, True))"
   ]
  },
  {
   "cell_type": "markdown",
   "metadata": {},
   "source": []
  },
  {
   "attachments": {},
   "cell_type": "markdown",
   "metadata": {},
   "source": [
    "    Converting Data to Tensor\n",
    "    \n",
    "To train a deep learning models, we have to train it by converting the data to **Tensor** on GPUs. For now, this project is going it on **PyTorch**."
   ]
  },
  {
   "cell_type": "code",
   "execution_count": 65,
   "metadata": {},
   "outputs": [
    {
     "name": "stdout",
     "output_type": "stream",
     "text": [
      "torch.Size([94458, 100])\n",
      "torch.Size([94458, 100])\n",
      "torch.Size([94458])\n"
     ]
    }
   ],
   "source": [
    "import torch\n",
    "from torch.utils.data import TensorDataset\n",
    "\n",
    "# convert all data into tensor\n",
    "\n",
    "input_ids_train = torch.tensor(\n",
    "    [features[0] for features in x_train_tokens.values], dtype=torch.long\n",
    ")\n",
    "\n",
    "input_mask_train = torch.tensor(\n",
    "    [features[1] for features in x_train_tokens.values], dtype=torch.long\n",
    ")\n",
    "\n",
    "label_ids_train = torch.tensor(y_train.values, dtype=torch.long)\n",
    "\n",
    "print(input_ids_train.shape)\n",
    "print(input_mask_train.shape)\n",
    "print(label_ids_train.shape)"
   ]
  },
  {
   "cell_type": "code",
   "execution_count": 75,
   "metadata": {},
   "outputs": [
    {
     "data": {
      "text/plain": [
       "<torch.utils.data.dataset.TensorDataset at 0x7fdb690c82e0>"
      ]
     },
     "execution_count": 75,
     "metadata": {},
     "output_type": "execute_result"
    }
   ],
   "source": [
    "# wrap it into a tensor dataset\n",
    "# similar to pandas dataframe, but using tensor to save the data\n",
    "\n",
    "train_dataset = TensorDataset(input_ids_train, input_mask_train, label_ids_train)\n",
    "train_dataset"
   ]
  },
  {
   "cell_type": "markdown",
   "metadata": {},
   "source": []
  },
  {
   "attachments": {},
   "cell_type": "markdown",
   "metadata": {},
   "source": [
    "## Step 2: Model Training\n",
    "\n",
    "- Split the train data in batches and epochs, thus define the batch size and epoch using PyTorch\n",
    "- Define the BERT model using the Transformers library\n",
    "- Wrap all these steps into a nested for loops "
   ]
  },
  {
   "cell_type": "code",
   "execution_count": 76,
   "metadata": {},
   "outputs": [
    {
     "name": "stdout",
     "output_type": "stream",
     "text": [
      "num of examples 94458\n",
      "num of epochs 2\n",
      "num of batch size 64\n",
      "optimization steps 738\n"
     ]
    }
   ],
   "source": [
    "# split the train data in batches and epochs, thus define the batch size and epoch using PyTorch\n",
    "\n",
    "from torch.utils.data import DataLoader, RandomSampler\n",
    "\n",
    "train_batch_size = 64  # number of samples processed before the model is updated, adjust by yourself\n",
    "num_train_epochs = 2  # number of complete passes through the training dataset, adjust by yourself\n",
    "\n",
    "train_sampler = RandomSampler(train_dataset)\n",
    "train_dataloader = DataLoader(train_dataset,\n",
    "                              sampler=train_sampler,\n",
    "                              batch_size=train_batch_size)\n",
    "\n",
    "opt_steps = len(train_dataloader) // num_train_epochs  # formula to calculate the number of training steps\n",
    "\n",
    "print('num of examples', len(train_dataset))\n",
    "print('num of epochs', num_train_epochs)\n",
    "print('num of batch size', train_batch_size)\n",
    "print('optimization steps', opt_steps)"
   ]
  },
  {
   "cell_type": "code",
   "execution_count": 78,
   "metadata": {},
   "outputs": [
    {
     "name": "stderr",
     "output_type": "stream",
     "text": [
      "/Users/taufiqurrohman/opt/anaconda3/lib/python3.9/site-packages/transformers/optimization.py:391: FutureWarning: This implementation of AdamW is deprecated and will be removed in a future version. Use the PyTorch implementation torch.optim.AdamW instead, or set `no_deprecation_warning=True` to disable this warning\n",
      "  warnings.warn(\n"
     ]
    }
   ],
   "source": [
    "# define the BERT model using the Transformers library\n",
    "# for the parameteres, see https://towardsdatascience.com/how-to-train-a-bert-model-from-scratch-72cfce554fc6\n",
    "\n",
    "from transformers import AdamW, get_linear_schedule_with_warmup\n",
    "\n",
    "learning_rate = 1e-4\n",
    "adam_epsilon = 1e-8\n",
    "warmup_steps = 0\n",
    "\n",
    "optimizer = AdamW(model.parameters(), lr=learning_rate, eps=adam_epsilon)\n",
    "scheduler = get_linear_schedule_with_warmup(optimizer,\n",
    "                                            num_warmup_steps=warmup_steps,\n",
    "                                            num_training_steps=opt_steps)"
   ]
  },
  {
   "attachments": {},
   "cell_type": "markdown",
   "metadata": {},
   "source": [
    "For the code below, it's taken directly from the book. Please refer to **page 317** for the complete tutorial. This project will also not run the code as well, as it's taking too much time to train."
   ]
  },
  {
   "cell_type": "code",
   "execution_count": 80,
   "metadata": {},
   "outputs": [
    {
     "name": "stderr",
     "output_type": "stream",
     "text": [
      "Epoch:   0%|          | 0/2 [00:00<?, ?it/s]"
     ]
    },
    {
     "data": {
      "application/vnd.jupyter.widget-view+json": {
       "model_id": "0985f3b0ab384919bee29c29db941681",
       "version_major": 2,
       "version_minor": 0
      },
      "text/plain": [
       "Iteration:   0%|          | 0/1476 [00:00<?, ?it/s]"
      ]
     },
     "metadata": {},
     "output_type": "display_data"
    },
    {
     "name": "stdout",
     "output_type": "stream",
     "text": [
      "0.523702"
     ]
    },
    {
     "name": "stderr",
     "output_type": "stream",
     "text": [
      "Epoch:   0%|          | 0/2 [04:36<?, ?it/s]\n"
     ]
    },
    {
     "ename": "KeyboardInterrupt",
     "evalue": "",
     "output_type": "error",
     "traceback": [
      "\u001b[0;31m---------------------------------------------------------------------------\u001b[0m",
      "\u001b[0;31mKeyboardInterrupt\u001b[0m                         Traceback (most recent call last)",
      "\u001b[0;32m/var/folders/3z/jblqnqjn04ldn_gk07kslfp00000gn/T/ipykernel_4162/2048080377.py\u001b[0m in \u001b[0;36m<module>\u001b[0;34m\u001b[0m\n\u001b[1;32m     30\u001b[0m \u001b[0;34m\u001b[0m\u001b[0m\n\u001b[1;32m     31\u001b[0m         \u001b[0;31m# Back-propogate the loss (automatically calculates gradients)\u001b[0m\u001b[0;34m\u001b[0m\u001b[0;34m\u001b[0m\u001b[0m\n\u001b[0;32m---> 32\u001b[0;31m         \u001b[0mloss\u001b[0m\u001b[0;34m.\u001b[0m\u001b[0mbackward\u001b[0m\u001b[0;34m(\u001b[0m\u001b[0;34m)\u001b[0m\u001b[0;34m\u001b[0m\u001b[0;34m\u001b[0m\u001b[0m\n\u001b[0m\u001b[1;32m     33\u001b[0m \u001b[0;34m\u001b[0m\u001b[0m\n\u001b[1;32m     34\u001b[0m         \u001b[0;31m# Prevent exploding gradients by limiting gradients to 1.0\u001b[0m\u001b[0;34m\u001b[0m\u001b[0;34m\u001b[0m\u001b[0m\n",
      "\u001b[0;32m~/opt/anaconda3/lib/python3.9/site-packages/torch/_tensor.py\u001b[0m in \u001b[0;36mbackward\u001b[0;34m(self, gradient, retain_graph, create_graph, inputs)\u001b[0m\n\u001b[1;32m    486\u001b[0m                 \u001b[0minputs\u001b[0m\u001b[0;34m=\u001b[0m\u001b[0minputs\u001b[0m\u001b[0;34m,\u001b[0m\u001b[0;34m\u001b[0m\u001b[0;34m\u001b[0m\u001b[0m\n\u001b[1;32m    487\u001b[0m             )\n\u001b[0;32m--> 488\u001b[0;31m         torch.autograd.backward(\n\u001b[0m\u001b[1;32m    489\u001b[0m             \u001b[0mself\u001b[0m\u001b[0;34m,\u001b[0m \u001b[0mgradient\u001b[0m\u001b[0;34m,\u001b[0m \u001b[0mretain_graph\u001b[0m\u001b[0;34m,\u001b[0m \u001b[0mcreate_graph\u001b[0m\u001b[0;34m,\u001b[0m \u001b[0minputs\u001b[0m\u001b[0;34m=\u001b[0m\u001b[0minputs\u001b[0m\u001b[0;34m\u001b[0m\u001b[0;34m\u001b[0m\u001b[0m\n\u001b[1;32m    490\u001b[0m         )\n",
      "\u001b[0;32m~/opt/anaconda3/lib/python3.9/site-packages/torch/autograd/__init__.py\u001b[0m in \u001b[0;36mbackward\u001b[0;34m(tensors, grad_tensors, retain_graph, create_graph, grad_variables, inputs)\u001b[0m\n\u001b[1;32m    195\u001b[0m     \u001b[0;31m# some Python versions print out the first line of a multi-line function\u001b[0m\u001b[0;34m\u001b[0m\u001b[0;34m\u001b[0m\u001b[0m\n\u001b[1;32m    196\u001b[0m     \u001b[0;31m# calls in the traceback and some print out the last line\u001b[0m\u001b[0;34m\u001b[0m\u001b[0;34m\u001b[0m\u001b[0m\n\u001b[0;32m--> 197\u001b[0;31m     Variable._execution_engine.run_backward(  # Calls into the C++ engine to run the backward pass\n\u001b[0m\u001b[1;32m    198\u001b[0m         \u001b[0mtensors\u001b[0m\u001b[0;34m,\u001b[0m \u001b[0mgrad_tensors_\u001b[0m\u001b[0;34m,\u001b[0m \u001b[0mretain_graph\u001b[0m\u001b[0;34m,\u001b[0m \u001b[0mcreate_graph\u001b[0m\u001b[0;34m,\u001b[0m \u001b[0minputs\u001b[0m\u001b[0;34m,\u001b[0m\u001b[0;34m\u001b[0m\u001b[0;34m\u001b[0m\u001b[0m\n\u001b[1;32m    199\u001b[0m         allow_unreachable=True, accumulate_grad=True)  # Calls into the C++ engine to run the backward pass\n",
      "\u001b[0;31mKeyboardInterrupt\u001b[0m: "
     ]
    }
   ],
   "source": [
    "# wrap all these steps into a nested for loops \n",
    "\n",
    "from tqdm import trange, notebook\n",
    "\n",
    "device = torch.device('cuda' if torch.cuda.is_available() else 'cpu')\n",
    "train_iterator = trange(num_train_epochs, desc='Epoch')\n",
    "\n",
    "for epoch in train_iterator:\n",
    "    epoch_iterator = notebook.tqdm(train_dataloader, desc='Iteration')\n",
    "    \n",
    "    for step, batch in enumerate(epoch_iterator):\n",
    "\n",
    "        # Reset all gradients at start of every iteration\n",
    "        model.zero_grad()\n",
    "        # Put the model and the input observations to GPU\n",
    "        model.to(device)\n",
    "        batch = tuple(t.to(device) for t in batch)\n",
    "        \n",
    "        # Identify the inputs to the model\n",
    "        inputs = {'input_ids': batch[0],\n",
    "                  'attention_mask': batch[1],\n",
    "                  'labels': batch[2]}\n",
    "        \n",
    "        # Forward Pass through the model. Input -> Model -> Output\n",
    "        outputs = model(**inputs)\n",
    "        \n",
    "        # Determine the deviation (loss)\n",
    "        loss = outputs[0] \n",
    "        print(\"\\r%f\" % loss, end='')\n",
    "        \n",
    "        # Back-propogate the loss (automatically calculates gradients)\n",
    "        loss.backward()\n",
    "        \n",
    "        # Prevent exploding gradients by limiting gradients to 1.0\n",
    "        torch.nn.utils.clip_grad_norm_(model.parameters(), 1.0)\n",
    "            \n",
    "        # Update the parameters and learning rate\n",
    "        optimizer.step()\n",
    "        scheduler.step()"
   ]
  },
  {
   "cell_type": "markdown",
   "metadata": {},
   "source": []
  },
  {
   "attachments": {},
   "cell_type": "markdown",
   "metadata": {},
   "source": [
    "## Step 3: Model Evaluation\n",
    "\n",
    "For the code below, it's taken directly from the book. Please refer to **page 318** for the complete tutorial. This project will also not run the code as well, as it's taking too much time to train."
   ]
  },
  {
   "cell_type": "code",
   "execution_count": null,
   "metadata": {},
   "outputs": [],
   "source": [
    "import numpy as np\n",
    "\n",
    "from torch.utils.data import SequentialSampler\n",
    "\n",
    "test_batch_size = 64\n",
    "test_sampler = SequentialSampler(test_dataset)\n",
    "test_dataloader = DataLoader(test_dataset,\n",
    "                             sampler=test_sampler,\n",
    "                             batch_size=test_batch_size)\n",
    "    \n",
    "# Load the pretrained model that was saved earlier\n",
    "# model = model.from_pretrained('/outputs')\n",
    "# Initialize the prediction and actual labels\n",
    "preds = None\n",
    "out_label_ids = None\n",
    "    \n",
    "# Put model in \"eval\" mode\n",
    "model.eval()\n",
    "\n",
    "for batch in notebook.tqdm(test_dataloader, desc=\"Evaluating\"):\n",
    "    \n",
    "    # Put the model and the input observations to GPU\n",
    "    model.to(device)\n",
    "    batch = tuple(t.to(device) for t in batch)\n",
    "    \n",
    "    # Do not track any gradients since in 'eval' mode\n",
    "    with torch.no_grad():\n",
    "        inputs = {'input_ids': batch[0],\n",
    "                    'attention_mask': batch[1],\n",
    "                    'labels':         batch[2]}\n",
    "        \n",
    "        # Forward pass through the model\n",
    "        outputs = model(**inputs)\n",
    "\n",
    "        # We get loss since we provided the labels\n",
    "        tmp_eval_loss, logits = outputs[:2]\n",
    "            \n",
    "            # There maybe more than one batch of items in the test dataset\n",
    "        if preds is None:\n",
    "            preds = logits.detach().cpu().numpy()\n",
    "            out_label_ids = inputs['labels'].detach().cpu().numpy()\n",
    "        else:\n",
    "            preds = np.append(preds, logits.detach().cpu().numpy(), axis=0) \n",
    "            out_label_ids = np.append(out_label_ids,\n",
    "                                      inputs['labels'].detach().cpu().numpy(),\n",
    "                                      axis=0)\n",
    "\n",
    "# Get final loss, predictions and accuracy\n",
    "preds = np.argmax(preds, axis=1)\n",
    "acc_score = accuracy_score(preds, out_label_ids) \n",
    "print ('Accuracy Score on Test data ', acc_score)"
   ]
  }
 ],
 "metadata": {
  "kernelspec": {
   "display_name": "base",
   "language": "python",
   "name": "python3"
  },
  "language_info": {
   "codemirror_mode": {
    "name": "ipython",
    "version": 3
   },
   "file_extension": ".py",
   "mimetype": "text/x-python",
   "name": "python",
   "nbconvert_exporter": "python",
   "pygments_lexer": "ipython3",
   "version": "3.9.13"
  },
  "orig_nbformat": 4,
  "vscode": {
   "interpreter": {
    "hash": "0fd9779e8d8f386467a1f1d1102cd9c30d79c45b15374f3d42e7180eb33a0483"
   }
  }
 },
 "nbformat": 4,
 "nbformat_minor": 2
}
