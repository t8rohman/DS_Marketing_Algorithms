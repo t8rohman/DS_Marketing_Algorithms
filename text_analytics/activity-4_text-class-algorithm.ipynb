{
 "cells": [
  {
   "attachments": {},
   "cell_type": "markdown",
   "metadata": {},
   "source": [
    "# Text Classification Algorithms\n",
    "\n",
    "Tutorial on how to do text classification using Linear SVC. The project is using the bugs data during the development of Java Development Tools (JDT). This project will show you the steps, including:\n",
    "\n",
    "1. Data cleaning\n",
    "2. Data preparation (train-test splitting)\n",
    "3. Building machine learning model\n",
    "\n",
    "Functions referred to Blueprints for Text Analytics by Albrecht et al. (2021) with several adjustments to make it more clear. No ready-to-use functions at all because it's already convenient by using sklearn functions."
   ]
  },
  {
   "cell_type": "code",
   "execution_count": 183,
   "metadata": {},
   "outputs": [],
   "source": [
    "import pandas as pd\n",
    "import sqlite3\n",
    "import matplotlib.pyplot as plt\n",
    "\n",
    "# for the machine learning model\n",
    "from sklearn.model_selection import train_test_split\n",
    "from sklearn.model_selection import cross_val_score\n",
    "from sklearn.model_selection import GridSearchCV\n",
    "from sklearn.pipeline import Pipeline\n",
    "from sklearn.feature_extraction.text import TfidfVectorizer \n",
    "from sklearn.svm import LinearSVC\n",
    "from sklearn.dummy import DummyClassifier\n",
    "from sklearn import metrics  # for evaluating ML models"
   ]
  },
  {
   "attachments": {},
   "cell_type": "markdown",
   "metadata": {},
   "source": [
    "## Introduction of the Data"
   ]
  },
  {
   "cell_type": "code",
   "execution_count": 150,
   "metadata": {},
   "outputs": [
    {
     "data": {
      "text/html": [
       "<div>\n",
       "<style scoped>\n",
       "    .dataframe tbody tr th:only-of-type {\n",
       "        vertical-align: middle;\n",
       "    }\n",
       "\n",
       "    .dataframe tbody tr th {\n",
       "        vertical-align: top;\n",
       "    }\n",
       "\n",
       "    .dataframe thead th {\n",
       "        text-align: right;\n",
       "    }\n",
       "</style>\n",
       "<table border=\"1\" class=\"dataframe\">\n",
       "  <thead>\n",
       "    <tr style=\"text-align: right;\">\n",
       "      <th></th>\n",
       "      <th>26111</th>\n",
       "    </tr>\n",
       "  </thead>\n",
       "  <tbody>\n",
       "    <tr>\n",
       "      <th>Issue_id</th>\n",
       "      <td>95341</td>\n",
       "    </tr>\n",
       "    <tr>\n",
       "      <th>Priority</th>\n",
       "      <td>P3</td>\n",
       "    </tr>\n",
       "    <tr>\n",
       "      <th>Component</th>\n",
       "      <td>Text</td>\n",
       "    </tr>\n",
       "    <tr>\n",
       "      <th>Duplicated_issue</th>\n",
       "      <td>NaN</td>\n",
       "    </tr>\n",
       "    <tr>\n",
       "      <th>Title</th>\n",
       "      <td>[formatting] Java code formatter changes curre...</td>\n",
       "    </tr>\n",
       "    <tr>\n",
       "      <th>Description</th>\n",
       "      <td>See https://bugs.eclipse.org/bugs/show_bug.cgi...</td>\n",
       "    </tr>\n",
       "    <tr>\n",
       "      <th>Status</th>\n",
       "      <td>RESOLVED</td>\n",
       "    </tr>\n",
       "    <tr>\n",
       "      <th>Resolution</th>\n",
       "      <td>NDUPLICATE</td>\n",
       "    </tr>\n",
       "    <tr>\n",
       "      <th>Version</th>\n",
       "      <td>3.1</td>\n",
       "    </tr>\n",
       "    <tr>\n",
       "      <th>Created_time</th>\n",
       "      <td>2005-05-16 05:27:00 -0400</td>\n",
       "    </tr>\n",
       "    <tr>\n",
       "      <th>Resolved_time</th>\n",
       "      <td>2008-06-18 06:43:09 -0400</td>\n",
       "    </tr>\n",
       "  </tbody>\n",
       "</table>\n",
       "</div>"
      ],
      "text/plain": [
       "                                                              26111\n",
       "Issue_id                                                      95341\n",
       "Priority                                                         P3\n",
       "Component                                                      Text\n",
       "Duplicated_issue                                                NaN\n",
       "Title             [formatting] Java code formatter changes curre...\n",
       "Description       See https://bugs.eclipse.org/bugs/show_bug.cgi...\n",
       "Status                                                     RESOLVED\n",
       "Resolution                                               NDUPLICATE\n",
       "Version                                                         3.1\n",
       "Created_time                              2005-05-16 05:27:00 -0400\n",
       "Resolved_time                             2008-06-18 06:43:09 -0400"
      ]
     },
     "execution_count": 150,
     "metadata": {},
     "output_type": "execute_result"
    }
   ],
   "source": [
    "# load the data file\n",
    "\n",
    "df = pd.read_csv('dataset/eclipse_jdt.csv')\n",
    "df.sample(1).T"
   ]
  },
  {
   "cell_type": "code",
   "execution_count": 151,
   "metadata": {},
   "outputs": [
    {
     "name": "stdout",
     "output_type": "stream",
     "text": [
      "<class 'pandas.core.frame.DataFrame'>\n",
      "RangeIndex: 45296 entries, 0 to 45295\n",
      "Data columns (total 11 columns):\n",
      " #   Column            Non-Null Count  Dtype  \n",
      "---  ------            --------------  -----  \n",
      " 0   Issue_id          45296 non-null  int64  \n",
      " 1   Priority          45296 non-null  object \n",
      " 2   Component         45296 non-null  object \n",
      " 3   Duplicated_issue  7688 non-null   float64\n",
      " 4   Title             45296 non-null  object \n",
      " 5   Description       45253 non-null  object \n",
      " 6   Status            45296 non-null  object \n",
      " 7   Resolution        45296 non-null  object \n",
      " 8   Version           45296 non-null  object \n",
      " 9   Created_time      45296 non-null  object \n",
      " 10  Resolved_time     45296 non-null  object \n",
      "dtypes: float64(1), int64(1), object(9)\n",
      "memory usage: 3.8+ MB\n"
     ]
    },
    {
     "data": {
      "text/plain": [
       "None"
      ]
     },
     "metadata": {},
     "output_type": "display_data"
    }
   ],
   "source": [
    "display(df.info())"
   ]
  },
  {
   "attachments": {},
   "cell_type": "markdown",
   "metadata": {},
   "source": [
    "Some description of the data:\n",
    "- Issue ID      : The primary key for the issue used to track the bug\n",
    "- Priority      : Level of criticality of the issue (P1: most crucial to P5: least crucial)    \n",
    "- Component     : Refers to the specific architectural part of the project where the project occurs\n",
    "- Title         : Short summary of the bug\n",
    "- Description   : More detailed description of the bug"
   ]
  },
  {
   "attachments": {},
   "cell_type": "markdown",
   "metadata": {},
   "source": [
    "## Exploratory Data Analysis"
   ]
  },
  {
   "cell_type": "markdown",
   "metadata": {},
   "source": [
    "    Distribution of the bugs priority"
   ]
  },
  {
   "cell_type": "code",
   "execution_count": 152,
   "metadata": {},
   "outputs": [
    {
     "data": {
      "text/plain": [
       "<AxesSubplot:>"
      ]
     },
     "execution_count": 152,
     "metadata": {},
     "output_type": "execute_result"
    },
    {
     "data": {
      "image/png": "[encoded data removed]",
      "text/plain": [
       "<Figure size 640x480 with 1 Axes>"
      ]
     },
     "metadata": {},
     "output_type": "display_data"
    }
   ],
   "source": [
    "df['Priority'].value_counts().sort_index().plot(kind='bar')"
   ]
  },
  {
   "cell_type": "markdown",
   "metadata": {},
   "source": [
    "    Distribution of the part of the component where the bugs occured"
   ]
  },
  {
   "cell_type": "code",
   "execution_count": 153,
   "metadata": {},
   "outputs": [
    {
     "data": {
      "text/plain": [
       "<AxesSubplot:>"
      ]
     },
     "execution_count": 153,
     "metadata": {},
     "output_type": "execute_result"
    },
    {
     "data": {
      "image/png": "[encoded data removed]",
      "text/plain": [
       "<Figure size 640x480 with 1 Axes>"
      ]
     },
     "metadata": {},
     "output_type": "display_data"
    }
   ],
   "source": [
    "df['Component'].value_counts().sort_values(ascending=False).plot(kind='bar')"
   ]
  },
  {
   "cell_type": "markdown",
   "metadata": {},
   "source": []
  },
  {
   "attachments": {},
   "cell_type": "markdown",
   "metadata": {},
   "source": [
    "# Data Preparation    "
   ]
  },
  {
   "attachments": {},
   "cell_type": "markdown",
   "metadata": {},
   "source": [
    "    Step 1: Data Cleaning    "
   ]
  },
  {
   "cell_type": "code",
   "execution_count": 154,
   "metadata": {},
   "outputs": [
    {
     "data": {
      "text/html": [
       "<div>\n",
       "<style scoped>\n",
       "    .dataframe tbody tr th:only-of-type {\n",
       "        vertical-align: middle;\n",
       "    }\n",
       "\n",
       "    .dataframe tbody tr th {\n",
       "        vertical-align: top;\n",
       "    }\n",
       "\n",
       "    .dataframe thead th {\n",
       "        text-align: right;\n",
       "    }\n",
       "</style>\n",
       "<table border=\"1\" class=\"dataframe\">\n",
       "  <thead>\n",
       "    <tr style=\"text-align: right;\">\n",
       "      <th></th>\n",
       "      <th>Priority</th>\n",
       "      <th>text</th>\n",
       "    </tr>\n",
       "  </thead>\n",
       "  <tbody>\n",
       "    <tr>\n",
       "      <th>0</th>\n",
       "      <td>P1</td>\n",
       "      <td>Icons needed for actions (1GI5UXW) JGS (8/8/01...</td>\n",
       "    </tr>\n",
       "    <tr>\n",
       "      <th>1</th>\n",
       "      <td>P3</td>\n",
       "      <td>README: Hit count not reset (1GET20Y) JGS (6/4...</td>\n",
       "    </tr>\n",
       "    <tr>\n",
       "      <th>2</th>\n",
       "      <td>P3</td>\n",
       "      <td>Use styled text in console (1G9S1YF) DW (2/26/...</td>\n",
       "    </tr>\n",
       "    <tr>\n",
       "      <th>3</th>\n",
       "      <td>P3</td>\n",
       "      <td>StringBuffer representation (1GE3BFA) JGS (5/2...</td>\n",
       "    </tr>\n",
       "    <tr>\n",
       "      <th>4</th>\n",
       "      <td>P2</td>\n",
       "      <td>Feature: use #toString to display variable val...</td>\n",
       "    </tr>\n",
       "  </tbody>\n",
       "</table>\n",
       "</div>"
      ],
      "text/plain": [
       "  Priority                                               text\n",
       "0       P1  Icons needed for actions (1GI5UXW) JGS (8/8/01...\n",
       "1       P3  README: Hit count not reset (1GET20Y) JGS (6/4...\n",
       "2       P3  Use styled text in console (1G9S1YF) DW (2/26/...\n",
       "3       P3  StringBuffer representation (1GE3BFA) JGS (5/2...\n",
       "4       P2  Feature: use #toString to display variable val..."
      ]
     },
     "execution_count": 154,
     "metadata": {},
     "output_type": "execute_result"
    }
   ],
   "source": [
    "# cleaning the data first\n",
    "# only taking the data that we need\n",
    "\n",
    "df = df[['Title', 'Description', 'Priority']]\n",
    "df = df.dropna()  # needed to drop na for the ML model\n",
    "df['text'] = df['Title'] + ' ' + df['Description']\n",
    "df = df.drop(columns=['Title', 'Description'])\n",
    "\n",
    "df.head(5)"
   ]
  },
  {
   "cell_type": "code",
   "execution_count": 155,
   "metadata": {},
   "outputs": [
    {
     "data": {
      "text/html": [
       "<div>\n",
       "<style scoped>\n",
       "    .dataframe tbody tr th:only-of-type {\n",
       "        vertical-align: middle;\n",
       "    }\n",
       "\n",
       "    .dataframe tbody tr th {\n",
       "        vertical-align: top;\n",
       "    }\n",
       "\n",
       "    .dataframe thead th {\n",
       "        text-align: right;\n",
       "    }\n",
       "</style>\n",
       "<table border=\"1\" class=\"dataframe\">\n",
       "  <thead>\n",
       "    <tr style=\"text-align: right;\">\n",
       "      <th></th>\n",
       "      <th>Priority</th>\n",
       "      <th>text</th>\n",
       "    </tr>\n",
       "  </thead>\n",
       "  <tbody>\n",
       "    <tr>\n",
       "      <th>6907</th>\n",
       "      <td>P1</td>\n",
       "      <td>Default source lookup computed incorrectly Whe...</td>\n",
       "    </tr>\n",
       "    <tr>\n",
       "      <th>15333</th>\n",
       "      <td>P3</td>\n",
       "      <td>Java Model Exception appears mysteriously in ....</td>\n",
       "    </tr>\n",
       "    <tr>\n",
       "      <th>11050</th>\n",
       "      <td>P1</td>\n",
       "      <td>Moving linked resource onto self deletes linke...</td>\n",
       "    </tr>\n",
       "    <tr>\n",
       "      <th>23954</th>\n",
       "      <td>P3</td>\n",
       "      <td>CommentRecorderScanner.recordComment crashes o...</td>\n",
       "    </tr>\n",
       "    <tr>\n",
       "      <th>17817</th>\n",
       "      <td>P3</td>\n",
       "      <td>AppletMainTab has too many composites The Appl...</td>\n",
       "    </tr>\n",
       "  </tbody>\n",
       "</table>\n",
       "</div>"
      ],
      "text/plain": [
       "      Priority                                               text\n",
       "6907        P1  Default source lookup computed incorrectly Whe...\n",
       "15333       P3  Java Model Exception appears mysteriously in ....\n",
       "11050       P1  Moving linked resource onto self deletes linke...\n",
       "23954       P3  CommentRecorderScanner.recordComment crashes o...\n",
       "17817       P3  AppletMainTab has too many composites The Appl..."
      ]
     },
     "execution_count": 155,
     "metadata": {},
     "output_type": "execute_result"
    }
   ],
   "source": [
    "from fun_nlp_spacy_text import clean  # taking a function from self-made script\n",
    "\n",
    "df['text'] = df['text'].apply(clean)\n",
    "df = df[df['text'].str.len() > 50]  # filtering only with text that is valid, has more than 50 characters\n",
    "df.sample(5)"
   ]
  },
  {
   "attachments": {},
   "cell_type": "markdown",
   "metadata": {},
   "source": [
    "    Step 2: Train-Test Split    "
   ]
  },
  {
   "cell_type": "code",
   "execution_count": 156,
   "metadata": {},
   "outputs": [
    {
     "name": "stdout",
     "output_type": "stream",
     "text": [
      "len of training data: 36040\n",
      "len of test data: 9011\n"
     ]
    }
   ],
   "source": [
    "# train test split first\n",
    "# don't forget to set the random_state parameter\n",
    "# use the text as the feature to predict level of the priority\n",
    "\n",
    "x_train, x_test, y_train, y_test = train_test_split(df['text'],\n",
    "                                                    df['Priority'],\n",
    "                                                    test_size=0.2,  # test data 20% of the data\n",
    "                                                    random_state=42,\n",
    "                                                    stratify=df['Priority'])  # to retain dataset, to pertain the reproducibility\n",
    "\n",
    "print('len of training data:', len(x_train))\n",
    "print('len of test data:', len(x_test))"
   ]
  },
  {
   "cell_type": "markdown",
   "metadata": {},
   "source": [
    "    Checking whether we already have the data we want"
   ]
  },
  {
   "cell_type": "code",
   "execution_count": 157,
   "metadata": {},
   "outputs": [
    {
     "data": {
      "text/plain": [
       "24511    Quick fix generate strange formatted code M5a;...\n",
       "8103     App started with Run... does not get the curre...\n",
       "17995    NPE when using ICU.reconcile(GET_AST_TRUE; ......\n",
       "Name: text, dtype: object"
      ]
     },
     "execution_count": 157,
     "metadata": {},
     "output_type": "execute_result"
    }
   ],
   "source": [
    "x_train.sample(3)"
   ]
  },
  {
   "cell_type": "code",
   "execution_count": 158,
   "metadata": {},
   "outputs": [
    {
     "data": {
      "text/plain": [
       "44904    EncodingTests.testBug361356b failed on JRE 7 N...\n",
       "43547    improve description for adding library with de...\n",
       "7360     TVT2: mnemonic not workin in java template pre...\n",
       "Name: text, dtype: object"
      ]
     },
     "execution_count": 158,
     "metadata": {},
     "output_type": "execute_result"
    }
   ],
   "source": [
    "x_test.sample(3)"
   ]
  },
  {
   "cell_type": "code",
   "execution_count": 159,
   "metadata": {},
   "outputs": [
    {
     "data": {
      "text/plain": [
       "22965    P3\n",
       "26545    P3\n",
       "20390    P3\n",
       "Name: Priority, dtype: object"
      ]
     },
     "execution_count": 159,
     "metadata": {},
     "output_type": "execute_result"
    }
   ],
   "source": [
    "y_train.sample(3)"
   ]
  },
  {
   "cell_type": "code",
   "execution_count": 160,
   "metadata": {},
   "outputs": [
    {
     "data": {
      "text/plain": [
       "33589    P3\n",
       "40670    P3\n",
       "36532    P3\n",
       "Name: Priority, dtype: object"
      ]
     },
     "execution_count": 160,
     "metadata": {},
     "output_type": "execute_result"
    }
   ],
   "source": [
    "y_test.sample(3)"
   ]
  },
  {
   "attachments": {},
   "cell_type": "markdown",
   "metadata": {},
   "source": [
    "# Machine Learning Models"
   ]
  },
  {
   "attachments": {},
   "cell_type": "markdown",
   "metadata": {},
   "source": [
    "## Model 1 : Linear SVC"
   ]
  },
  {
   "attachments": {},
   "cell_type": "markdown",
   "metadata": {},
   "source": [
    "    Step 1: Vectorizing the text first    "
   ]
  },
  {
   "cell_type": "code",
   "execution_count": 161,
   "metadata": {},
   "outputs": [
    {
     "data": {
      "text/plain": [
       "<36040x37998 sparse matrix of type '<class 'numpy.float64'>'\n",
       "\twith 2921470 stored elements in Compressed Sparse Row format>"
      ]
     },
     "execution_count": 161,
     "metadata": {},
     "output_type": "execute_result"
    }
   ],
   "source": [
    "tfidf = TfidfVectorizer(min_df=10,\n",
    "                        ngram_range=(1,2),\n",
    "                        stop_words='english')\n",
    "x_train_tf = tfidf.fit_transform(x_train)\n",
    "\n",
    "x_train_tf"
   ]
  },
  {
   "attachments": {},
   "cell_type": "markdown",
   "metadata": {},
   "source": [
    "    Step 2: Training the model using Classification Model: Linear Support Vector (SVC)\n",
    "\n",
    "An algorithm that attempts to find a hyperplane to maximize the distance between classified samples.\n"
   ]
  },
  {
   "cell_type": "code",
   "execution_count": 162,
   "metadata": {},
   "outputs": [
    {
     "name": "stdout",
     "output_type": "stream",
     "text": [
      "CPU times: user 2.46 s, sys: 70.9 ms, total: 2.53 s\n",
      "Wall time: 3.18 s\n"
     ]
    },
    {
     "data": {
      "text/plain": [
       "LinearSVC(random_state=0, tol=1e-05)"
      ]
     },
     "execution_count": 162,
     "metadata": {},
     "output_type": "execute_result"
    }
   ],
   "source": [
    "%%time\n",
    "\n",
    "from sklearn.svm import LinearSVC\n",
    "\n",
    "model1 = LinearSVC(random_state=0, tol=1e-5)\n",
    "model1.fit(x_train_tf, y_train)"
   ]
  },
  {
   "attachments": {},
   "cell_type": "markdown",
   "metadata": {},
   "source": [
    "    Step 3: Model Evaluation\n",
    "\n",
    "Using several measurements, including: **Accuracy, Precision and Recall, and Class Imbalance**. Most of the functions already included in sklear.metrics method."
   ]
  },
  {
   "cell_type": "code",
   "execution_count": 163,
   "metadata": {},
   "outputs": [],
   "source": [
    "# vectorize the x_test first, then predict y_test from the vectorized x_test\n",
    "# not using FIT_TRANSFORM(), but instead using TRANSFORM() ONLY!\n",
    "# because we already fit the model before\n",
    "\n",
    "x_test_tf = tfidf.transform(x_test)  \n",
    "y_pred = model1.predict(x_test_tf)"
   ]
  },
  {
   "attachments": {},
   "cell_type": "markdown",
   "metadata": {},
   "source": [
    "#### Accuracy"
   ]
  },
  {
   "cell_type": "code",
   "execution_count": 164,
   "metadata": {},
   "outputs": [
    {
     "name": "stdout",
     "output_type": "stream",
     "text": [
      "Accuracy Score: 0.8761513705471091\n"
     ]
    }
   ],
   "source": [
    "# print the accuracy score\n",
    "print('Accuracy Score:', metrics.accuracy_score(y_test, y_pred))"
   ]
  },
  {
   "attachments": {},
   "cell_type": "markdown",
   "metadata": {},
   "source": [
    "#### Precision, Recall, and Confusion Matrix"
   ]
  },
  {
   "cell_type": "code",
   "execution_count": 165,
   "metadata": {},
   "outputs": [
    {
     "data": {
      "text/plain": [
       "array([[  19,    1,  199,    4,    0],\n",
       "       [   6,   18,  576,    8,    0],\n",
       "       [   8,   48, 7827,   19,    0],\n",
       "       [   0,    5,  192,   31,    0],\n",
       "       [   0,    0,   50,    0,    0]])"
      ]
     },
     "execution_count": 165,
     "metadata": {},
     "output_type": "execute_result"
    }
   ],
   "source": [
    "metrics.confusion_matrix(y_test, y_pred)"
   ]
  },
  {
   "cell_type": "code",
   "execution_count": 166,
   "metadata": {},
   "outputs": [
    {
     "name": "stderr",
     "output_type": "stream",
     "text": [
      "/Users/taufiqurrohman/opt/anaconda3/lib/python3.9/site-packages/sklearn/utils/deprecation.py:87: FutureWarning: Function plot_confusion_matrix is deprecated; Function `plot_confusion_matrix` is deprecated in 1.0 and will be removed in 1.2. Use one of the class methods: ConfusionMatrixDisplay.from_predictions or ConfusionMatrixDisplay.from_estimator.\n",
      "  warnings.warn(msg, category=FutureWarning)\n"
     ]
    },
    {
     "data": {
      "image/png": "[encoded data removed]",
      "text/plain": [
       "<Figure size 640x480 with 2 Axes>"
      ]
     },
     "metadata": {},
     "output_type": "display_data"
    }
   ],
   "source": [
    "# plot the confusion matrix\n",
    "\n",
    "metrics.plot_confusion_matrix(model1, x_test_tf, y_test, \n",
    "                              values_format='d', \n",
    "                              cmap=plt.cm.Blues)\n",
    "plt.show()"
   ]
  },
  {
   "cell_type": "code",
   "execution_count": 167,
   "metadata": {},
   "outputs": [
    {
     "name": "stdout",
     "output_type": "stream",
     "text": [
      "              precision    recall  f1-score   support\n",
      "\n",
      "          P1       0.58      0.09      0.15       223\n",
      "          P2       0.25      0.03      0.05       608\n",
      "          P3       0.89      0.99      0.93      7902\n",
      "          P4       0.50      0.14      0.21       228\n",
      "          P5       0.00      0.00      0.00        50\n",
      "\n",
      "    accuracy                           0.88      9011\n",
      "   macro avg       0.44      0.25      0.27      9011\n",
      "weighted avg       0.82      0.88      0.83      9011\n",
      "\n"
     ]
    },
    {
     "name": "stderr",
     "output_type": "stream",
     "text": [
      "/Users/taufiqurrohman/opt/anaconda3/lib/python3.9/site-packages/sklearn/metrics/_classification.py:1318: UndefinedMetricWarning: Precision and F-score are ill-defined and being set to 0.0 in labels with no predicted samples. Use `zero_division` parameter to control this behavior.\n",
      "  _warn_prf(average, modifier, msg_start, len(result))\n",
      "/Users/taufiqurrohman/opt/anaconda3/lib/python3.9/site-packages/sklearn/metrics/_classification.py:1318: UndefinedMetricWarning: Precision and F-score are ill-defined and being set to 0.0 in labels with no predicted samples. Use `zero_division` parameter to control this behavior.\n",
      "  _warn_prf(average, modifier, msg_start, len(result))\n",
      "/Users/taufiqurrohman/opt/anaconda3/lib/python3.9/site-packages/sklearn/metrics/_classification.py:1318: UndefinedMetricWarning: Precision and F-score are ill-defined and being set to 0.0 in labels with no predicted samples. Use `zero_division` parameter to control this behavior.\n",
      "  _warn_prf(average, modifier, msg_start, len(result))\n"
     ]
    }
   ],
   "source": [
    "# classification report\n",
    "print(metrics.classification_report(y_test, y_pred))"
   ]
  },
  {
   "attachments": {},
   "cell_type": "markdown",
   "metadata": {},
   "source": [
    "#### Important! Comparing to a Simple Baseline Approach    \n",
    "\n",
    "This is to understand **whether our machine learning model gives additional value**. DummyClassifier makes predictions that ignore the input features."
   ]
  },
  {
   "cell_type": "code",
   "execution_count": 168,
   "metadata": {},
   "outputs": [
    {
     "name": "stdout",
     "output_type": "stream",
     "text": [
      "Accuracy score using CLF: 0.8769281988680502\n"
     ]
    }
   ],
   "source": [
    "# Using Dummy Classifier\n",
    "# predict all as the one with the most frequent (y that frequently appears)\n",
    "\n",
    "from sklearn.dummy import DummyClassifier\n",
    "\n",
    "clf = DummyClassifier(strategy='most_frequent')\n",
    "clf.fit(x_train_tf, y_train)\n",
    "y_pred_clf = clf.predict(x_test_tf)\n",
    "\n",
    "print('Accuracy score using CLF:', metrics.accuracy_score(y_test, y_pred_clf))"
   ]
  },
  {
   "attachments": {},
   "cell_type": "markdown",
   "metadata": {},
   "source": [
    "## Model 2: Dealing with Class Imbalance"
   ]
  },
  {
   "cell_type": "code",
   "execution_count": 169,
   "metadata": {},
   "outputs": [
    {
     "data": {
      "text/plain": [
       "P3    39506\n",
       "P2     3038\n",
       "P4     1138\n",
       "P1     1117\n",
       "P5      252\n",
       "Name: Priority, dtype: int64"
      ]
     },
     "execution_count": 169,
     "metadata": {},
     "output_type": "execute_result"
    }
   ],
   "source": [
    "# class imbalance using downsampling method\n",
    "# for upsampling method using SMOTE (generating new observation), see PAGE 169\n",
    "\n",
    "df['Priority'].value_counts()"
   ]
  },
  {
   "cell_type": "code",
   "execution_count": 170,
   "metadata": {},
   "outputs": [
    {
     "data": {
      "text/plain": [
       "P3    4000\n",
       "P2    3038\n",
       "P4    1138\n",
       "P1    1117\n",
       "P5     252\n",
       "Name: Priority, dtype: int64"
      ]
     },
     "execution_count": 170,
     "metadata": {},
     "output_type": "execute_result"
    }
   ],
   "source": [
    "# downsampling method\n",
    "# downside: loss of information\n",
    "\n",
    "df_sample_p3 = df[df['Priority'] == 'P3'].sample(4000)  # just balance by yourself using intuition\n",
    "df_sample_rest = df[df['Priority'] != 'P3']\n",
    "\n",
    "df_downsample = pd.concat([df_sample_p3, df_sample_rest])\n",
    "df_downsample['Priority'].value_counts()"
   ]
  },
  {
   "attachments": {},
   "cell_type": "markdown",
   "metadata": {},
   "source": [
    "    All-in-All in One Chunk Code"
   ]
  },
  {
   "cell_type": "code",
   "execution_count": 171,
   "metadata": {},
   "outputs": [
    {
     "name": "stdout",
     "output_type": "stream",
     "text": [
      "Training data len: 7636\n",
      "Test data len: 1909\n",
      "Accuracy score: 0.5018334206390781\n",
      "              precision    recall  f1-score   support\n",
      "\n",
      "          P1       0.48      0.31      0.38       223\n",
      "          P2       0.43      0.46      0.44       608\n",
      "          P3       0.56      0.67      0.61       800\n",
      "          P4       0.48      0.33      0.39       228\n",
      "          P5       0.00      0.00      0.00        50\n",
      "\n",
      "    accuracy                           0.50      1909\n",
      "   macro avg       0.39      0.35      0.36      1909\n",
      "weighted avg       0.49      0.50      0.49      1909\n",
      "\n"
     ]
    }
   ],
   "source": [
    "df = df_downsample[['text', 'Priority']]\n",
    "df = df.dropna()\n",
    "\n",
    "    # Step 1: Data Preparation \n",
    "\n",
    "df['text'] = df['text'].apply(clean)\n",
    "\n",
    "    # Step 2: Train-test Split Data\n",
    "\n",
    "x_train, x_test, y_train, y_test = train_test_split(df['text'],\n",
    "                                                    df['Priority'],\n",
    "                                                    test_size=0.2,\n",
    "                                                    random_state=42,\n",
    "                                                    stratify=df['Priority'])\n",
    "\n",
    "print('Training data len:', x_train.shape[0])\n",
    "print('Test data len:', x_test.shape[0])\n",
    "\n",
    "    # Step 3: Training ML Model\n",
    "\n",
    "tfidf = TfidfVectorizer(min_df=10, ngram_range=(1,2), stop_words='english')\n",
    "x_train_tf = tfidf.fit_transform(x_train)\n",
    "\n",
    "model_1_svc = LinearSVC(random_state=0, tol=1e-5)\n",
    "model_1_svc.fit(x_train_tf, y_train)\n",
    "\n",
    "    # Step 4: Model Evaluation\n",
    "\n",
    "x_test_tf = tfidf.transform(x_test)\n",
    "y_pred = model_1_svc.predict(x_test_tf)\n",
    "\n",
    "print('Accuracy score:', metrics.accuracy_score(y_test, y_pred))\n",
    "print(metrics.classification_report(y_test, y_pred))"
   ]
  },
  {
   "cell_type": "code",
   "execution_count": 172,
   "metadata": {},
   "outputs": [
    {
     "name": "stdout",
     "output_type": "stream",
     "text": [
      "Accuracy score using CLF: 0.41906757464641176\n"
     ]
    }
   ],
   "source": [
    "# important! benchmarking to a business approach\n",
    "\n",
    "clf = DummyClassifier(strategy='most_frequent')\n",
    "clf.fit(x_train_tf, y_train)\n",
    "y_pred_clf = clf.predict(x_test_tf)\n",
    "\n",
    "print('Accuracy score using CLF:', metrics.accuracy_score(y_test, y_pred_clf))"
   ]
  },
  {
   "attachments": {},
   "cell_type": "markdown",
   "metadata": {},
   "source": [
    "## Model 3: Cross-Validation\n",
    "\n",
    "Model to train on different splots of data and validate also on different splits of data in a repetitive manner. Use cross-validation to detect overfitting, ie, failing to generalize a pattern."
   ]
  },
  {
   "cell_type": "code",
   "execution_count": 178,
   "metadata": {},
   "outputs": [],
   "source": [
    "# Vectorizing the data\n",
    "\n",
    "tfidf = TfidfVectorizer(min_df=10, ngram_range=(1,2), stop_words='english')\n",
    "df_tf = tfidf.fit_transform(df['text'])\n",
    "\n",
    "# calculating cross validation score\n",
    "\n",
    "from sklearn.model_selection import cross_val_score\n",
    "\n",
    "score = cross_val_score(estimator=model_1_svc,\n",
    "                        X=df_tf,\n",
    "                        y=df['Priority'],\n",
    "                        cv=5)"
   ]
  },
  {
   "cell_type": "code",
   "execution_count": 180,
   "metadata": {},
   "outputs": [
    {
     "name": "stdout",
     "output_type": "stream",
     "text": [
      "validation score of each iteration: [0.45940283 0.43425877 0.44316396 0.42011524 0.36720796]\n",
      "mean value: 0.4248297537977999\n",
      "standard deviation value: 0.031505061570140935\n"
     ]
    }
   ],
   "source": [
    "print('validation score of each iteration:', score)\n",
    "print('mean value:', score.mean())\n",
    "print('standard deviation value:', score.std())"
   ]
  },
  {
   "attachments": {},
   "cell_type": "markdown",
   "metadata": {},
   "source": [
    "## Model 4: GridSearch - Performing Hyperparameter Tuning (HPT)\n",
    "\n",
    "Improve the accuracy of the model by evaluating different parameters used for the model."
   ]
  },
  {
   "attachments": {},
   "cell_type": "markdown",
   "metadata": {},
   "source": [
    "    Step 1: Define training_pipline, steps that we would like to run.\n",
    "\n",
    "The steps should be from sklearn library as well.    "
   ]
  },
  {
   "cell_type": "code",
   "execution_count": 187,
   "metadata": {},
   "outputs": [],
   "source": [
    "from sklearn.pipeline import Pipeline\n",
    "\n",
    "training_pipeline = Pipeline(\n",
    "    steps=[('tfidf', TfidfVectorizer(stop_words='english')),\n",
    "            ('model_2_svc', LinearSVC(random_state=42, tol=1e-5))]\n",
    ")"
   ]
  },
  {
   "attachments": {},
   "cell_type": "markdown",
   "metadata": {},
   "source": [
    "    Step 2: Define the grid parameter, all the parameters that we want to look at"
   ]
  },
  {
   "cell_type": "code",
   "execution_count": 190,
   "metadata": {},
   "outputs": [],
   "source": [
    "# there's a pattern for this which is -> [function]__[parameter]\n",
    "# look at the book page 176\n",
    "# or the official documentation at: https://scikit-learn.org/stable/modules/generated/sklearn.model_selection.ParameterGrid.html\n",
    "\n",
    "param_grid = [{\n",
    "    'tfidf__min_df': [5,10],\n",
    "    'tfidf__ngram_range': [(1,3), (1,6)],\n",
    "    'model_2_svc__penalty': ['l2'],\n",
    "    'model_2_svc__penalty': ['hinge'],\n",
    "    'model_2_svc__max_iter': [10000]\n",
    "},{\n",
    "    'tfidf__min_df': [5, 10],\n",
    "    'tfidf__ngram_range': [(1, 3), (1,6)],\n",
    "    'model_2_svc__C': [1, 10],\n",
    "    'model_2_svc__tol': [1e-2, 1e-3]\n",
    "}]"
   ]
  },
  {
   "cell_type": "markdown",
   "metadata": {},
   "source": [
    "    Build the GridSearchCV function and pass all the parameters we have "
   ]
  },
  {
   "cell_type": "code",
   "execution_count": 191,
   "metadata": {},
   "outputs": [
    {
     "name": "stderr",
     "output_type": "stream",
     "text": [
      "/Users/taufiqurrohman/opt/anaconda3/lib/python3.9/site-packages/sklearn/model_selection/_validation.py:372: FitFailedWarning: \n",
      "20 fits failed out of a total of 100.\n",
      "The score on these train-test partitions for these parameters will be set to nan.\n",
      "If these failures are not expected, you can try to debug them by setting error_score='raise'.\n",
      "\n",
      "Below are more details about the failures:\n",
      "--------------------------------------------------------------------------------\n",
      "20 fits failed with the following error:\n",
      "Traceback (most recent call last):\n",
      "  File \"/Users/taufiqurrohman/opt/anaconda3/lib/python3.9/site-packages/sklearn/model_selection/_validation.py\", line 680, in _fit_and_score\n",
      "    estimator.fit(X_train, y_train, **fit_params)\n",
      "  File \"/Users/taufiqurrohman/opt/anaconda3/lib/python3.9/site-packages/sklearn/pipeline.py\", line 394, in fit\n",
      "    self._final_estimator.fit(Xt, y, **fit_params_last_step)\n",
      "  File \"/Users/taufiqurrohman/opt/anaconda3/lib/python3.9/site-packages/sklearn/svm/_classes.py\", line 257, in fit\n",
      "    self.coef_, self.intercept_, self.n_iter_ = _fit_liblinear(\n",
      "  File \"/Users/taufiqurrohman/opt/anaconda3/lib/python3.9/site-packages/sklearn/svm/_base.py\", line 1185, in _fit_liblinear\n",
      "    solver_type = _get_liblinear_solver_type(multi_class, penalty, loss, dual)\n",
      "  File \"/Users/taufiqurrohman/opt/anaconda3/lib/python3.9/site-packages/sklearn/svm/_base.py\", line 1024, in _get_liblinear_solver_type\n",
      "    raise ValueError(\n",
      "ValueError: Unsupported set of arguments: The combination of penalty='hinge' and loss='squared_hinge' is not supported, Parameters: penalty='hinge', loss='squared_hinge', dual=True\n",
      "\n",
      "  warnings.warn(some_fits_failed_message, FitFailedWarning)\n",
      "/Users/taufiqurrohman/opt/anaconda3/lib/python3.9/site-packages/sklearn/model_selection/_search.py:969: UserWarning: One or more of the test scores are non-finite: [       nan        nan        nan        nan 0.4316396  0.42744893\n",
      " 0.42755369 0.42462022 0.43174437 0.42776323 0.42734416 0.42462022\n",
      " 0.39759036 0.39675223 0.38994238 0.38868518 0.39748559 0.39675223\n",
      " 0.39015191 0.38868518]\n",
      "  warnings.warn(\n"
     ]
    },
    {
     "data": {
      "text/plain": [
       "GridSearchCV(cv=5,\n",
       "             estimator=Pipeline(steps=[('tfidf',\n",
       "                                        TfidfVectorizer(stop_words='english')),\n",
       "                                       ('model_2_svc',\n",
       "                                        LinearSVC(random_state=42,\n",
       "                                                  tol=1e-05))]),\n",
       "             param_grid=[{'model_2_svc__max_iter': [10000],\n",
       "                          'model_2_svc__penalty': ['hinge'],\n",
       "                          'tfidf__min_df': [5, 10],\n",
       "                          'tfidf__ngram_range': [(1, 3), (1, 6)]},\n",
       "                         {'model_2_svc__C': [1, 10],\n",
       "                          'model_2_svc__tol': [0.01, 0.001],\n",
       "                          'tfidf__min_df': [5, 10],\n",
       "                          'tfidf__ngram_range': [(1, 3), (1, 6)]}])"
      ]
     },
     "execution_count": 191,
     "metadata": {},
     "output_type": "execute_result"
    }
   ],
   "source": [
    "# pass all the parameters to GridSearchCV function\n",
    "# and fit it to the data we have\n",
    "\n",
    "gridSearchProcessor = GridSearchCV(estimator=training_pipeline,\n",
    "                                   param_grid=param_grid,\n",
    "                                   cv=5)                        # we can pass the parameter for cross validation as well\n",
    "gridSearchProcessor.fit(df['text'], df['Priority'])             # do not have to pass the vectorized data since it's already defined as training pipeline parameter"
   ]
  },
  {
   "attachments": {},
   "cell_type": "markdown",
   "metadata": {},
   "source": [
    "    Print the result!"
   ]
  },
  {
   "cell_type": "code",
   "execution_count": 192,
   "metadata": {},
   "outputs": [
    {
     "name": "stdout",
     "output_type": "stream",
     "text": [
      "Best parameter based on the grid search method: {'model_2_svc__C': 1, 'model_2_svc__tol': 0.001, 'tfidf__min_df': 5, 'tfidf__ngram_range': (1, 3)}\n",
      "Best accuracy score based on the grid search method: 0.43174436877946565\n"
     ]
    }
   ],
   "source": [
    "best_params = gridSearchProcessor.best_params_\n",
    "print('Best parameter based on the grid search method:', best_params)\n",
    "\n",
    "best_score = gridSearchProcessor.best_score_\n",
    "print('Best accuracy score based on the grid search method:', best_score)"
   ]
  },
  {
   "cell_type": "code",
   "execution_count": 197,
   "metadata": {},
   "outputs": [
    {
     "data": {
      "text/html": [
       "<div>\n",
       "<style scoped>\n",
       "    .dataframe tbody tr th:only-of-type {\n",
       "        vertical-align: middle;\n",
       "    }\n",
       "\n",
       "    .dataframe tbody tr th {\n",
       "        vertical-align: top;\n",
       "    }\n",
       "\n",
       "    .dataframe thead th {\n",
       "        text-align: right;\n",
       "    }\n",
       "</style>\n",
       "<table border=\"1\" class=\"dataframe\">\n",
       "  <thead>\n",
       "    <tr style=\"text-align: right;\">\n",
       "      <th></th>\n",
       "      <th>rank_test_score</th>\n",
       "      <th>mean_test_score</th>\n",
       "      <th>params</th>\n",
       "    </tr>\n",
       "  </thead>\n",
       "  <tbody>\n",
       "    <tr>\n",
       "      <th>8</th>\n",
       "      <td>1</td>\n",
       "      <td>0.431744</td>\n",
       "      <td>{'model_2_svc__C': 1, 'model_2_svc__tol': 0.00...</td>\n",
       "    </tr>\n",
       "    <tr>\n",
       "      <th>4</th>\n",
       "      <td>2</td>\n",
       "      <td>0.431640</td>\n",
       "      <td>{'model_2_svc__C': 1, 'model_2_svc__tol': 0.01...</td>\n",
       "    </tr>\n",
       "    <tr>\n",
       "      <th>9</th>\n",
       "      <td>3</td>\n",
       "      <td>0.427763</td>\n",
       "      <td>{'model_2_svc__C': 1, 'model_2_svc__tol': 0.00...</td>\n",
       "    </tr>\n",
       "    <tr>\n",
       "      <th>6</th>\n",
       "      <td>4</td>\n",
       "      <td>0.427554</td>\n",
       "      <td>{'model_2_svc__C': 1, 'model_2_svc__tol': 0.01...</td>\n",
       "    </tr>\n",
       "    <tr>\n",
       "      <th>5</th>\n",
       "      <td>5</td>\n",
       "      <td>0.427449</td>\n",
       "      <td>{'model_2_svc__C': 1, 'model_2_svc__tol': 0.01...</td>\n",
       "    </tr>\n",
       "    <tr>\n",
       "      <th>10</th>\n",
       "      <td>6</td>\n",
       "      <td>0.427344</td>\n",
       "      <td>{'model_2_svc__C': 1, 'model_2_svc__tol': 0.00...</td>\n",
       "    </tr>\n",
       "    <tr>\n",
       "      <th>7</th>\n",
       "      <td>7</td>\n",
       "      <td>0.424620</td>\n",
       "      <td>{'model_2_svc__C': 1, 'model_2_svc__tol': 0.01...</td>\n",
       "    </tr>\n",
       "    <tr>\n",
       "      <th>11</th>\n",
       "      <td>7</td>\n",
       "      <td>0.424620</td>\n",
       "      <td>{'model_2_svc__C': 1, 'model_2_svc__tol': 0.00...</td>\n",
       "    </tr>\n",
       "    <tr>\n",
       "      <th>12</th>\n",
       "      <td>9</td>\n",
       "      <td>0.397590</td>\n",
       "      <td>{'model_2_svc__C': 10, 'model_2_svc__tol': 0.0...</td>\n",
       "    </tr>\n",
       "    <tr>\n",
       "      <th>16</th>\n",
       "      <td>10</td>\n",
       "      <td>0.397486</td>\n",
       "      <td>{'model_2_svc__C': 10, 'model_2_svc__tol': 0.0...</td>\n",
       "    </tr>\n",
       "  </tbody>\n",
       "</table>\n",
       "</div>"
      ],
      "text/plain": [
       "    rank_test_score  mean_test_score  \\\n",
       "8                 1         0.431744   \n",
       "4                 2         0.431640   \n",
       "9                 3         0.427763   \n",
       "6                 4         0.427554   \n",
       "5                 5         0.427449   \n",
       "10                6         0.427344   \n",
       "7                 7         0.424620   \n",
       "11                7         0.424620   \n",
       "12                9         0.397590   \n",
       "16               10         0.397486   \n",
       "\n",
       "                                               params  \n",
       "8   {'model_2_svc__C': 1, 'model_2_svc__tol': 0.00...  \n",
       "4   {'model_2_svc__C': 1, 'model_2_svc__tol': 0.01...  \n",
       "9   {'model_2_svc__C': 1, 'model_2_svc__tol': 0.00...  \n",
       "6   {'model_2_svc__C': 1, 'model_2_svc__tol': 0.01...  \n",
       "5   {'model_2_svc__C': 1, 'model_2_svc__tol': 0.01...  \n",
       "10  {'model_2_svc__C': 1, 'model_2_svc__tol': 0.00...  \n",
       "7   {'model_2_svc__C': 1, 'model_2_svc__tol': 0.01...  \n",
       "11  {'model_2_svc__C': 1, 'model_2_svc__tol': 0.00...  \n",
       "12  {'model_2_svc__C': 10, 'model_2_svc__tol': 0.0...  \n",
       "16  {'model_2_svc__C': 10, 'model_2_svc__tol': 0.0...  "
      ]
     },
     "execution_count": 197,
     "metadata": {},
     "output_type": "execute_result"
    }
   ],
   "source": [
    "# in a from of dataframe\n",
    "\n",
    "df_gridsearch_result = pd.DataFrame(gridSearchProcessor.cv_results_)        # pass it to dataframe\n",
    "df_gridsearch_result[['rank_test_score', 'mean_test_score', 'params']       # make it tidier\n",
    "                     ].sort_values(by='rank_test_score').head(10)                                                        "
   ]
  }
 ],
 "metadata": {
  "kernelspec": {
   "display_name": "base",
   "language": "python",
   "name": "python3"
  },
  "language_info": {
   "codemirror_mode": {
    "name": "ipython",
    "version": 3
   },
   "file_extension": ".py",
   "mimetype": "text/x-python",
   "name": "python",
   "nbconvert_exporter": "python",
   "pygments_lexer": "ipython3",
   "version": "3.9.13 (main, Aug 25 2022, 18:29:29) \n[Clang 12.0.0 ]"
  },
  "orig_nbformat": 4,
  "vscode": {
   "interpreter": {
    "hash": "0fd9779e8d8f386467a1f1d1102cd9c30d79c45b15374f3d42e7180eb33a0483"
   }
  }
 },
 "nbformat": 4,
 "nbformat_minor": 2
}
